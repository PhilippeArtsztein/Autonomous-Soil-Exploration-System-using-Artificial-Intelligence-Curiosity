{
 "cells": [
  {
   "cell_type": "markdown",
   "id": "02c3467f",
   "metadata": {},
   "source": [
    "<table style=\"width:98%; border: 1px solid DarkGoldenRod; border-collapse: collapse;\">\n",
    "  <tr style=\"background-color:#FFFFFF\">\n",
    "    <td width =\"59%\">\n",
    "        <h1 style=\"font-size:3vw;color:#A00000;text-align:center\">\n",
    "        Autonomous Soil Exploration System using Artificial Curiosity\n",
    "        </h1>\n",
    "        <h1 style=\"font-size:2vw;color:#A00000;text-align:center\">\n",
    "        <font style=\"font-family:Snell Roundhand, cursive;color:darkgreen\">\n",
    "        Manual Python Garbage Collector\n",
    "        </font>\n",
    "        </h1>\n",
    "        <h1 style=\"font-size:1.2vw;color:#A00000;text-align:center\">\n",
    "        Prof. Goren Gordon, Philippe Artsztein\n",
    "        </h1>\n",
    "    </td>\n",
    "    <td width =\"39%\"><img src=\"./MyLogo.jpg\" width=\"80%\" height=\"80%\" style=\"float:left;vertical-align:bottom;margin: 20px 20px\"></td>\n",
    "  </tr>\n",
    "</table>"
   ]
  },
  {
   "cell_type": "code",
   "execution_count": 1,
   "id": "d927e224",
   "metadata": {},
   "outputs": [],
   "source": [
    "import General_Functions as gf\n",
    "import random\n",
    "# Do not forget to install psutil package\n",
    "import os, psutil\n",
    "process = psutil.Process(os.getpid())"
   ]
  },
  {
   "cell_type": "markdown",
   "id": "cb149d35",
   "metadata": {},
   "source": [
    "<table style=\"width:100%\">\n",
    "  <tr style=\"background-color:#FFFF88\">\n",
    "    <td style=\"text-align:left\">\n",
    "        <font style=\"font-size:1.8vw;font-weight: bold;font-family:Trebuchet MS, sans-serif;color:#0000A0;\">\n",
    "        &#x1405; Create a two array function.\n",
    "        </font>\n",
    "    </td>\n",
    "  </tr>\n",
    "</table>"
   ]
  },
  {
   "cell_type": "code",
   "execution_count": 2,
   "id": "f773d092",
   "metadata": {},
   "outputs": [],
   "source": [
    "def AppendTwoDimentionArray(TheArray, Xvalue, Yvalue):\n",
    "    col= []\n",
    "    col.append(Xvalue)\n",
    "    col.append(Yvalue)\n",
    "    TheArray.append(col)\n",
    "    return(TheArray)"
   ]
  },
  {
   "cell_type": "markdown",
   "id": "80ac87b7",
   "metadata": {},
   "source": [
    "<table style=\"width:100%\">\n",
    "  <tr style=\"background-color:#FFFF88\">\n",
    "    <td style=\"text-align:left\">\n",
    "        <font style=\"font-size:1.8vw;font-weight: bold;font-family:Trebuchet MS, sans-serif;color:#0000A0;\">\n",
    "        &#x1405; Memory monitoring.\n",
    "        </font>\n",
    "    </td>\n",
    "  </tr>\n",
    "</table>"
   ]
  },
  {
   "cell_type": "code",
   "execution_count": 3,
   "id": "29b21d84",
   "metadata": {},
   "outputs": [
    {
     "name": "stdout",
     "output_type": "stream",
     "text": [
      "\u001b[35mᐅ Memory Usage in MB = \u001b[0m     64.6\n"
     ]
    }
   ],
   "source": [
    "gf.ThePrint_1Header_1Variable_Point1('Memory Usage in MB =', process.memory_info().rss*0.000001)"
   ]
  },
  {
   "cell_type": "markdown",
   "id": "e2225e31",
   "metadata": {},
   "source": [
    "<table style=\"width:100%\">\n",
    "  <tr style=\"background-color:#FFFF88\">\n",
    "    <td style=\"text-align:left\">\n",
    "        <font style=\"font-size:1.8vw;font-weight: bold;font-family:Trebuchet MS, sans-serif;color:#0000A0;\">\n",
    "        &#x1405; Add some data.\n",
    "        </font>\n",
    "    </td>\n",
    "  </tr>\n",
    "</table>"
   ]
  },
  {
   "cell_type": "code",
   "execution_count": 4,
   "id": "ce0532cf",
   "metadata": {},
   "outputs": [
    {
     "name": "stdout",
     "output_type": "stream",
     "text": [
      "4\n",
      "[[1, 1], [2, 7], [3, 11], [6, 17]]\n",
      "17\n"
     ]
    }
   ],
   "source": [
    "ZZ= []\n",
    "ZZ= AppendTwoDimentionArray(ZZ, 1, 1)\n",
    "ZZ= AppendTwoDimentionArray(ZZ, 2, 7)\n",
    "ZZ= AppendTwoDimentionArray(ZZ, 3, 11)\n",
    "ZZ= AppendTwoDimentionArray(ZZ, 6, 17)\n",
    "\n",
    "print(len(ZZ))\n",
    "print(ZZ)\n",
    "print(ZZ[3][1])"
   ]
  },
  {
   "cell_type": "markdown",
   "id": "a2ac569c",
   "metadata": {},
   "source": [
    "<table style=\"width:100%\">\n",
    "  <tr style=\"background-color:#FFFF88\">\n",
    "    <td style=\"text-align:left\">\n",
    "        <font style=\"font-size:1.8vw;font-weight: bold;font-family:Trebuchet MS, sans-serif;color:#0000A0;\">\n",
    "        &#x1405; Memory monitoring.\n",
    "        </font>\n",
    "    </td>\n",
    "  </tr>\n",
    "</table>"
   ]
  },
  {
   "cell_type": "code",
   "execution_count": 5,
   "id": "4c034d4f",
   "metadata": {},
   "outputs": [
    {
     "name": "stdout",
     "output_type": "stream",
     "text": [
      "\u001b[35mᐅ Memory Usage in MB = \u001b[0m     64.6\n"
     ]
    }
   ],
   "source": [
    "gf.ThePrint_1Header_1Variable_Point1('Memory Usage in MB =', process.memory_info().rss*0.000001)"
   ]
  },
  {
   "cell_type": "markdown",
   "id": "cbe75da5",
   "metadata": {},
   "source": [
    "<table style=\"width:100%\">\n",
    "  <tr style=\"background-color:#FFFF88\">\n",
    "    <td style=\"text-align:left\">\n",
    "        <font style=\"font-size:1.8vw;font-weight: bold;font-family:Trebuchet MS, sans-serif;color:#0000A0;\">\n",
    "        &#x1405; Add a huge amount  of data.\n",
    "        </font>\n",
    "    </td>\n",
    "  </tr>\n",
    "</table>"
   ]
  },
  {
   "cell_type": "code",
   "execution_count": 6,
   "id": "92e37f6e",
   "metadata": {},
   "outputs": [],
   "source": [
    "for iii in range(0,1000000):\n",
    "    ZZ= AppendTwoDimentionArray(ZZ, iii, random.randint(1,100))"
   ]
  },
  {
   "cell_type": "markdown",
   "id": "0eaa73a8",
   "metadata": {},
   "source": [
    "<table style=\"width:100%\">\n",
    "  <tr style=\"background-color:#FFFF88\">\n",
    "    <td style=\"text-align:left\">\n",
    "        <font style=\"font-size:1.8vw;font-weight: bold;font-family:Trebuchet MS, sans-serif;color:#0000A0;\">\n",
    "        &#x1405; Memory monitoring.\n",
    "        </font>\n",
    "    </td>\n",
    "  </tr>\n",
    "</table>"
   ]
  },
  {
   "cell_type": "code",
   "execution_count": 7,
   "id": "8df40ca3",
   "metadata": {},
   "outputs": [
    {
     "name": "stdout",
     "output_type": "stream",
     "text": [
      "\u001b[35mᐅ Memory Usage in MB = \u001b[0m    202.6\n"
     ]
    }
   ],
   "source": [
    "gf.ThePrint_1Header_1Variable_Point1('Memory Usage in MB =', process.memory_info().rss*0.000001)"
   ]
  },
  {
   "cell_type": "markdown",
   "id": "f8abc16c",
   "metadata": {},
   "source": [
    "<table style=\"width:100%\">\n",
    "  <tr style=\"background-color:#FFFF88\">\n",
    "    <td style=\"text-align:left\">\n",
    "        <font style=\"font-size:1.8vw;font-weight: bold;font-family:Trebuchet MS, sans-serif;color:#0000A0;\">\n",
    "        &#x1405; Clear data.\n",
    "        </font>\n",
    "    </td>\n",
    "  </tr>\n",
    "</table>"
   ]
  },
  {
   "cell_type": "code",
   "execution_count": 8,
   "id": "e094b009",
   "metadata": {},
   "outputs": [
    {
     "name": "stdout",
     "output_type": "stream",
     "text": [
      "0\n",
      "[]\n"
     ]
    }
   ],
   "source": [
    "ZZ.clear()\n",
    "print(len(ZZ))\n",
    "print(ZZ)"
   ]
  },
  {
   "cell_type": "markdown",
   "id": "66463c3f",
   "metadata": {},
   "source": [
    "<table style=\"width:100%\">\n",
    "  <tr style=\"background-color:#FFFF88\">\n",
    "    <td style=\"text-align:left\">\n",
    "        <font style=\"font-size:1.8vw;font-weight: bold;font-family:Trebuchet MS, sans-serif;color:#0000A0;\">\n",
    "        &#x1405; Memory monitoring.\n",
    "        </font>\n",
    "    </td>\n",
    "  </tr>\n",
    "</table>"
   ]
  },
  {
   "cell_type": "code",
   "execution_count": 9,
   "id": "d18a8e60",
   "metadata": {},
   "outputs": [
    {
     "name": "stdout",
     "output_type": "stream",
     "text": [
      "\u001b[35mᐅ Memory Usage in MB = \u001b[0m     65.7\n"
     ]
    }
   ],
   "source": [
    "gf.ThePrint_1Header_1Variable_Point1('Memory Usage in MB =', process.memory_info().rss*0.000001)"
   ]
  }
 ],
 "metadata": {
  "kernelspec": {
   "display_name": "Python 3",
   "language": "python",
   "name": "python3"
  },
  "language_info": {
   "codemirror_mode": {
    "name": "ipython",
    "version": 3
   },
   "file_extension": ".py",
   "mimetype": "text/x-python",
   "name": "python",
   "nbconvert_exporter": "python",
   "pygments_lexer": "ipython3",
   "version": "3.8.12"
  }
 },
 "nbformat": 4,
 "nbformat_minor": 5
}
