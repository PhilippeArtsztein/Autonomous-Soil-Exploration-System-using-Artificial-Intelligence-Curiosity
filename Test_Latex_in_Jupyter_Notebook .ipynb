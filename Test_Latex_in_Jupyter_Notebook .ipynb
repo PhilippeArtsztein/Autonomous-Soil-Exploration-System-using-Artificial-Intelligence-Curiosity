{
 "cells": [
  {
   "cell_type": "markdown",
   "id": "0c110b53",
   "metadata": {},
   "source": [
    "<table style=\"width:98%; border: 1px solid DarkGoldenRod; border-collapse: collapse;\">\n",
    "  <tr style=\"background-color:#FFFFFF\">\n",
    "    <td width =\"59%\">\n",
    "        <h1 style=\"font-size:3vw;color:#A00000;text-align:center\">\n",
    "        Autonomous Soil Exploration System using Artificial Curiosity\n",
    "        </h1>\n",
    "        <h1 style=\"font-size:2vw;color:#A00000;text-align:center\">\n",
    "        <font style=\"font-family:Snell Roundhand, cursive;color:darkgreen\">\n",
    "            Latex in Jupyter Notebook\n",
    "        </font>\n",
    "        </h1>\n",
    "        <h1 style=\"font-size:1.2vw;color:#A00000;text-align:center\">\n",
    "        Prof. Goren Gordon, Philippe Artsztein\n",
    "        </h1>\n",
    "    </td>\n",
    "    <td width =\"39%\"><img src=\"./MyLogo.jpg\" width=\"80%\" height=\"80%\" style=\"float:left;vertical-align:bottom;margin: 20px 20px\"></td>\n",
    "  </tr>\n",
    "</table>"
   ]
  },
  {
   "cell_type": "markdown",
   "id": "c2a65160",
   "metadata": {},
   "source": [
    "<b><u>latex</b></u>"
   ]
  },
  {
   "cell_type": "markdown",
   "id": "17fbea16",
   "metadata": {},
   "source": [
    "<b><u>inline, wrap in: \\$</u></b>\n",
    "\n",
    "The equation used depends on whether the the value of $V​max​​$ is R, G, or B."
   ]
  },
  {
   "cell_type": "markdown",
   "id": "f7fb2f6b",
   "metadata": {},
   "source": [
    "<b><u>block, wrap in: \\$\\$</b></u>\n",
    "\n",
    "$$H←  ​​​​​0 ​+​ \\frac{​​30(G−B)​​}{Vmax−Vmin}  ​​, if V​max​​ = R$$"
   ]
  },
  {
   "cell_type": "markdown",
   "id": "733806f2",
   "metadata": {},
   "source": [
    "<b><u>block, wrap in: \\begin{equation} and \\end{equation}</b></u>\n",
    "\n",
    "\\begin{equation}\n",
    "H← ​​​60 ​+​ \\frac{​​30(B−R)​​}{Vmax−Vmin}  ​​, if V​max​​ = G\n",
    "\\end{equation}"
   ]
  },
  {
   "cell_type": "markdown",
   "id": "e373340e",
   "metadata": {},
   "source": [
    "<b><u>block, wrap in: \\begin{align} and \\end{align}</b></u>\n",
    "\n",
    "\\begin{align}\n",
    "H←120 ​+​ \\frac{​​30(R−G)​​}{Vmax−Vmin}  ​​, if V​max​​ = B\n",
    "\\end{align}"
   ]
  },
  {
   "cell_type": "markdown",
   "id": "2d3d66dd",
   "metadata": {},
   "source": [
    "LaTex Cell: \\%\\%latex magic command turns the entire cell into a LaTeX Cell\n",
    "\n",
    "%%latex\n",
    "\\begin{align}\n",
    "\\nabla \\cdot \\vec{\\mathbf{E}} & = 4 \\pi \\rho \\\\\n",
    "\\nabla \\times \\vec{\\mathbf{E}}\\, +\\, \\frac1c\\, \\frac{\\partial\\vec{\\mathbf{B}}}{\\partial t} & = \\vec{\\mathbf{0}} \\\\\n",
    "\\nabla \\cdot \\vec{\\mathbf{B}} & = 0\n",
    "\\end{align}"
   ]
  },
  {
   "cell_type": "code",
   "execution_count": 1,
   "id": "8609a4b5",
   "metadata": {},
   "outputs": [
    {
     "data": {
      "text/latex": [
       "$\\displaystyle F(k) = \\int_{-\\infty}^{\\infty} f(x) e^{2\\pi i k} dx$"
      ],
      "text/plain": [
       "<IPython.core.display.Math object>"
      ]
     },
     "execution_count": 1,
     "metadata": {},
     "output_type": "execute_result"
    }
   ],
   "source": [
    "#Math object to pass in a raw LaTeX string:\n",
    "\n",
    "from IPython.display import Math\n",
    "Math(r'F(k) = \\int_{-\\infty}^{\\infty} f(x) e^{2\\pi i k} dx')"
   ]
  },
  {
   "cell_type": "code",
   "execution_count": 2,
   "id": "4db3a473",
   "metadata": {},
   "outputs": [
    {
     "data": {
      "text/latex": [
       "\\begin{eqnarray}\n",
       "\\nabla \\times \\vec{\\mathbf{B}} -\\, \\frac1c\\, \\frac{\\partial\\vec{\\mathbf{E}}}{\\partial t} & = \\frac{4\\pi}{c}\\vec{\\mathbf{j}} \\\\\n",
       "\\nabla \\cdot \\vec{\\mathbf{E}} & = 4 \\pi \\rho \\\\\n",
       "\\nabla \\times \\vec{\\mathbf{E}}\\, +\\, \\frac1c\\, \\frac{\\partial\\vec{\\mathbf{B}}}{\\partial t} & = \\vec{\\mathbf{0}} \\\\\n",
       "\\nabla \\cdot \\vec{\\mathbf{B}} & = 0 \n",
       "\\end{eqnarray}"
      ],
      "text/plain": [
       "<IPython.core.display.Latex object>"
      ]
     },
     "execution_count": 2,
     "metadata": {},
     "output_type": "execute_result"
    }
   ],
   "source": [
    "#Latex class. Note: you have to include the delimiters yourself. This allows you to use other LaTeX modes such as eqnarray:\n",
    "\n",
    "from IPython.display import Latex\n",
    "Latex(r\"\"\"\\begin{eqnarray}\n",
    "\\nabla \\times \\vec{\\mathbf{B}} -\\, \\frac1c\\, \\frac{\\partial\\vec{\\mathbf{E}}}{\\partial t} & = \\frac{4\\pi}{c}\\vec{\\mathbf{j}} \\\\\n",
    "\\nabla \\cdot \\vec{\\mathbf{E}} & = 4 \\pi \\rho \\\\\n",
    "\\nabla \\times \\vec{\\mathbf{E}}\\, +\\, \\frac1c\\, \\frac{\\partial\\vec{\\mathbf{B}}}{\\partial t} & = \\vec{\\mathbf{0}} \\\\\n",
    "\\nabla \\cdot \\vec{\\mathbf{B}} & = 0 \n",
    "\\end{eqnarray}\"\"\")"
   ]
  },
  {
   "cell_type": "code",
   "execution_count": 3,
   "id": "31d6854b",
   "metadata": {},
   "outputs": [],
   "source": [
    "import GeneralFunctions as gf"
   ]
  },
  {
   "cell_type": "markdown",
   "id": "6fd4ccba",
   "metadata": {},
   "source": [
    "<table style=\"width:100%; border: 1px solid DarkGoldenRod; border-collapse: collapse;\">\n",
    "  <tr style=\"background-color:#FFFF88\">\n",
    "    <td style=\"text-align:left\">\n",
    "        <font style=\"font-size:2.0vw;font-weight: bold;text-decoration: underline;font-family:Trebuchet MS, sans-serif;color:#0000A0;\">\n",
    "        Section 5\n",
    "        </font>\n",
    "        <font style=\"font-size:1.8vw;font-weight: bold;font-family:Trebuchet MS, sans-serif;color:#0000A0;\">\n",
    "        <br>&#x1405; Nelder Mead Optimization Algorithm for a Rundom Path\n",
    "        <br>&#x1405; \n",
    "        </font>\n",
    "    </td>\n",
    "  </tr>\n",
    "</table>"
   ]
  },
  {
   "cell_type": "markdown",
   "id": "64a5113d",
   "metadata": {},
   "source": [
    "<table style=\"width:100%; border: 1px solid DarkGoldenRod; border-collapse: collapse;\">\n",
    "  <tr style=\"background-color:#FFFF88\">\n",
    "    <td style=\"text-align:left\">\n",
    "        <font style=\"font-size:2.0vw;font-weight: bold;text-decoration: underline;font-family:Trebuchet MS, sans-serif;color:#0000A0;\">\n",
    "        Section 5\n",
    "        </font>\n",
    "        <font style=\"font-size:1.8vw;font-weight: bold;font-family:Trebuchet MS, sans-serif;color:#0000A0;\">\n",
    "        <br>&#x1405; Nelder Mead Optimization Algorithm for a Rundom Path\n",
    "        <br>&#x1405;</font>\n",
    "        <font style=\"font-weight: bold;font-family:Trebuchet MS, sans-serif; color:#0000A0;\">${\\small x^2+y^2}$</font>\n",
    "    </td>\n",
    "  </tr>\n",
    "</table>"
   ]
  },
  {
   "cell_type": "markdown",
   "id": "5d14e11a",
   "metadata": {},
   "source": []
  },
  {
   "cell_type": "code",
   "execution_count": null,
   "id": "3d159be8",
   "metadata": {},
   "outputs": [],
   "source": []
  }
 ],
 "metadata": {
  "kernelspec": {
   "display_name": "Python 3",
   "language": "python",
   "name": "python3"
  },
  "language_info": {
   "codemirror_mode": {
    "name": "ipython",
    "version": 3
   },
   "file_extension": ".py",
   "mimetype": "text/x-python",
   "name": "python",
   "nbconvert_exporter": "python",
   "pygments_lexer": "ipython3",
   "version": "3.8.12"
  }
 },
 "nbformat": 4,
 "nbformat_minor": 5
}
