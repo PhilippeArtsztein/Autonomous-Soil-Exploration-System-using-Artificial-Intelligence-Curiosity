{
 "cells": [
  {
   "cell_type": "markdown",
   "id": "ac73c184",
   "metadata": {},
   "source": [
    "<table style=\"width:98%\">\n",
    "  <tr style=\"background-color:#FFFFFF\">\n",
    "    <td width =\"59%\">\n",
    "        <h1 style=\"font-size:3vw;color:#A00000;text-align:center\">\n",
    "        Autonomous Soil Exploration System using Artificial Curiosity\n",
    "        </h1>\n",
    "        <h1 style=\"font-size:2vw;color:#A00000;text-align:center\">\n",
    "        <font style=\"font-family:Snell Roundhand, cursive;color:darkgreen\">\n",
    "            Neural Network using gradient descent.\n",
    "        </font>\n",
    "        </h1>\n",
    "        <h1 style=\"font-size:1.2vw;color:#A00000;text-align:center\">\n",
    "        Prof. Goren Gordon, Philippe Artsztein\n",
    "        </h1>\n",
    "    </td>\n",
    "    <td width =\"39%\"><img src=\"./MyLogo.jpg\" width=\"100%\" height=\"100%\" style=\"float:left;vertical-align:bottom;margin: 20px 20px\"></td>\n",
    "  </tr>\n",
    "</table>"
   ]
  },
  {
   "cell_type": "markdown",
   "id": "bd5bd137",
   "metadata": {},
   "source": [
    "<div class=\"alert alert-danger\">Red backgroung - General descriptions and explanations.</div>"
   ]
  },
  {
   "cell_type": "markdown",
   "id": "f9b4db7a",
   "metadata": {},
   "source": [
    "<div class=\"alert alert-info\">Blue background - Descriptions and explanations to understand the flow of the code.</div>"
   ]
  },
  {
   "cell_type": "markdown",
   "id": "1244589c",
   "metadata": {},
   "source": [
    "<div class=\"alert alert-success\">Green background - Descriptions, explanations and usage of functions or classes.</div>"
   ]
  },
  {
   "cell_type": "code",
   "execution_count": 1,
   "id": "d9cf5f47",
   "metadata": {},
   "outputs": [],
   "source": [
    "# External Packeges\n",
    "import numpy as np\n",
    "import pandas as pd\n",
    "\n",
    "# Visualization\n",
    "import matplotlib.pyplot as plt\n",
    "import seaborn as sns\n",
    "sns.set(rc={'axes.labelcolor': 'darkgreen', 'axes.facecolor': 'lavender'})\n",
    "sns.set_color_codes()\n",
    "\n",
    "# disable printing annoying warnings of distplot :(\n",
    "import warnings\n",
    "%matplotlib inline\n",
    "warnings.filterwarnings('ignore')\n",
    "\n",
    "# Visualization of a 2D Neural Network display\n",
    "import Draw_Neural_Network_Schaeme as DrawNN"
   ]
  },
  {
   "cell_type": "markdown",
   "id": "5ff28e06",
   "metadata": {},
   "source": [
    "<div class=\"alert alert-danger\">\n",
    "Here we present a modular Neural Network using Gradient Descent from scratch in Python.<br>\n",
    "</div>"
   ]
  },
  {
   "cell_type": "markdown",
   "id": "b50cf445",
   "metadata": {},
   "source": [
    "<div class=\"pagebreak\"> </div>"
   ]
  },
  {
   "cell_type": "markdown",
   "id": "5475cbe8",
   "metadata": {},
   "source": [
    "<div class=\"alert alert-danger\">\n",
    "<u><b>Neural Network using Gradient Descent.</b></u><br>\n",
    "Gradient descent is an optimization algorithm that follows the negative gradient of an objective function in order to locate the minimum of the function.<br>\n",
    "Gradient descent is commonly-used to train machine learning models and neural networks.<br>\n",
    "The process of training data helps these models learn over time, and the cost function within gradient descent specifically acts as a barometer, gauging its accuracy with each iteration of parameter updates.<br>\n",
    "Until the function is close to or equal to zero, the model will continue to adjust its parameters to yield the smallest possible error.<br>\n",
    "This cod is based on Omar Aflak code. For more information look at:\n",
    "<a href=\"https://www.kaggle.com/code/milan400/neural-network-from-scratch-numpy-pandas\">Omar Aflak code</a><br>\n",
    "</div>"
   ]
  },
  {
   "cell_type": "markdown",
   "id": "97f94530",
   "metadata": {},
   "source": [
    "<div class=\"alert alert-success\">\n",
    "<b><u>class Layer</u></b><br>\n",
    "Layer object is an abstract parent class, which will serve two types of child class operation: weight/bias and activation.<br>\n",
    "The class is handling simple properties which are an input, an output.<br><br>\n",
    "<b><u>Constructor Input</u></b><br>\n",
    "&emsp;<u><i>Nothing</i></u><br><br>\n",
    "<b><u>Methods</u></b><br>\n",
    "&emsp;<b>ForwardPropagation Forward_Propagation(</b>...<b>)</b><br>\n",
    "&emsp;&emsp;Note: The <i><b>raise NotImplementedError</b></i> used to indicate a TODO for the child class<br>\n",
    "&emsp;<b>BackwardPropagation(</b>...<b>)</b><br>\n",
    "&emsp;&emsp;Note: The <i><b>raise NotImplementedError</b></i> used to indicate a TODO for the child class<br>\n",
    "&emsp;&emsp;Here we use the learning_rate which is a hyper-parameter that controls how much<br> &emsp;&emsp;we are adjusting the weights of our network with respect the loss gradient.<br>\n",
    "&emsp;&emsp;Note: maybe I will update the learning_rate to an adaptive learning_rate.\n",
    "</div>"
   ]
  },
  {
   "cell_type": "code",
   "execution_count": 2,
   "id": "c061079d",
   "metadata": {},
   "outputs": [],
   "source": [
    "class Layer:\n",
    "    def __init__(self):\n",
    "        self.input = None\n",
    "        self.output= None\n",
    "\n",
    "    # computes the output Y of a layer for a given input X\n",
    "    def ForwardPropagation(self, input_data):\n",
    "        raise NotImplementedError\n",
    "\n",
    "    # computes dE/dX for a given dE/dY (and update parameters if any)\n",
    "    def BackwardPropagation(self, output_error, learning_rate):\n",
    "        raise NotImplementedError"
   ]
  },
  {
   "cell_type": "markdown",
   "id": "2eb0fcc8",
   "metadata": {},
   "source": [
    "<div class=\"alert alert-success\">\n",
    "<b><u>class FullyConnectedLayer</u></b><br>\n",
    "FullyConnectedLayer object is a child class inherit from parent abstract class Layer<br>\n",
    "The class holds weights and bias of the neurons layer to the folowing neurons layer.<br>\n",
    "<br><b><u>Constructor Input</u></b><br>\n",
    "&emsp;<u><i>input_size</i></u><br>\n",
    "&emsp;&emsp;number of input neurons.<br>\n",
    "&emsp;<u><i>output_size</i></u><br>\n",
    "&emsp;&emsp;number of output neurons.<br>\n",
    "&emsp;The constructor creates biases and weights for the network, and initialized<br>\n",
    "&emsp;them randomly, with values between -0.5 to 0.5<br> \n",
    "<br><b><u>Methods</u></b><br>\n",
    "&emsp;<b>ForwardPropagation(</b>...<b>)</b><br>\n",
    "&emsp;&emsp;As the name suggests, the input data is fed in the forward direction through the network.<br>\n",
    "&emsp;&emsp;Each hidden layer accepts the input data, processes it as per the activation function and passes<br>\n",
    "&emsp;&emsp;to the successive layer.<br>\n",
    "&emsp;&emsp;Practically it calculate the output Y of a layer for a given input X<br>\n",
    "&emsp;&emsp;&emsp;Y(j)= B(j) + SUM {X(i)*W(i,j)}<br>\n",
    "&emsp;&emsp;the method returns output for a given input<br>\n",
    "&emsp;<b>BackwardPropagation(</b>...<b>)</b><br>\n",
    "&emsp;&emsp;The algorithm is used to effectively train a neural network through a method called chain rule.<br>\n",
    "&emsp;&emsp;In simple terms, after each forward pass through a network, backpropagation performs a backward<br>\n",
    "&emsp;&emsp;Practically it calculate ∂E/∂W, ∂E/∂B for a given output_error=∂E/∂Y.<br>\n",
    "&emsp;&emsp;returns input_error=∂E/∂X<br>\n",
    "&emsp;&emsp;computes ∂E/∂W, ∂E/∂B for a given output_error=∂E/∂X.<br>\n",
    "&emsp;&emsp;&emsp;∂E/∂X= ∂E/∂Y * Transposed(W)<br>\n",
    "&emsp;&emsp;&emsp;∂E/∂W= Transposed(X) * ∂E/∂Y<br>\n",
    "&emsp;&emsp;&emsp;∂E/∂B= ∂E/∂Y<br>\n",
    "</div>"
   ]
  },
  {
   "cell_type": "code",
   "execution_count": 3,
   "id": "5a94bdfd",
   "metadata": {},
   "outputs": [],
   "source": [
    "class FullyConnectedLayer(Layer):\n",
    "    def __init__(self, input_size, output_size):\n",
    "        self.weights= np.random.rand(input_size, output_size) - 0.5\n",
    "        self.bias   = np.random.rand(1, output_size) - 0.5\n",
    "        self.Name   = \"Fully Connected Layer\"\n",
    "\n",
    "    def ForwardPropagation(self, input_data):\n",
    "        self.input = input_data\n",
    "        self.output= np.dot(self.input, self.weights) + self.bias\n",
    "        return(self.output)\n",
    "\n",
    "    def BackwardPropagation(self, output_error, learning_rate):\n",
    "        input_error  = np.dot(output_error, self.weights.T)\n",
    "        weights_error= np.dot(self.input.T, output_error)\n",
    "        self.weights = self.weights - (learning_rate * weights_error)\n",
    "        self.bias    = self.bias    - (learning_rate * output_error)\n",
    "        return(input_error)"
   ]
  },
  {
   "cell_type": "markdown",
   "id": "820c1563",
   "metadata": {},
   "source": [
    "<div class=\"alert alert-success\">\n",
    "<b><u>class ActivationFunctionToUse(Layer)</u></b><br>\n",
    "ActivationFunctionToUse object is a child class inherit from parent abstract class Layer. The class stors<br>\n",
    "the Activation function and its prime (derivative).<br>\n",
    "The purpose of this class is to add non-linearity to the model by applying non-linear functions<br>\n",
    "to the output of some layers. Activation is responsible for adding non-linearity to the output of a<br>\n",
    "neural network model. Without an activation function, a neural network is simply a linear regression.<br>\n",
    "<br><b><u>Constructor Input</u></b><br>\n",
    "&emsp;<u><i>activation</i></u><br>\n",
    "&emsp;&emsp;Name of activation function to be use for this layer.<br>\n",
    "&emsp;<u><i>activation_prime</i></u><br>\n",
    "&emsp;&emsp;Name of activation prime function to be use for this layer.<br>\n",
    "<br><b><u>Methods</u></b><br>\n",
    "&emsp;<b>ForwardPropagation(</b>...<b>)</b><br>\n",
    "&emsp;&emsp;for a given input X, the output is simply the activation function applied to every\n",
    "element of X.<br> \n",
    "&emsp;&emsp;Which means input and output have the same dimensions.<br>\n",
    "&emsp;&emsp;&emsp;Y= [f(x_1) ... f(x_i)] = f(X)<br>\n",
    "&emsp;&emsp;the method returns the activated input<br>\n",
    "<br>&emsp;<b>BackwardPropagation(</b>...<b>)</b><br>\n",
    "&emsp;&emsp;for a given ∂E/∂Y, we want to calculate ∂E/∂X.<br>\n",
    "&emsp;&emsp;&emsp;∂E/∂X= [∂E/∂x_1 ... ∂E/∂x_i]<br>\n",
    "&emsp;&emsp;using thr chain rule :<br>\n",
    "&emsp;&emsp;&emsp; &emsp; &emsp;= [∂E/∂y_1*∂y_1/∂x_1 ... ∂E/∂y_i*∂y_i/∂x_i]<br>\n",
    "&emsp;&emsp;by defenition : ∂y/∂x = f'(x) so :<br>\n",
    "&emsp;&emsp;&emsp; &emsp; &emsp;= [∂E/∂y_1*f'(x_1) ... ∂E/∂y_i*f'(x_i)]<br>\n",
    "&emsp;&emsp;&emsp; &emsp; &emsp;= [∂E/∂y_1 ... ∂E/∂y_i] o [f'(x_1) ... f'(x_i)]<br>\n",
    "&emsp;&emsp;&emsp; &emsp; &emsp;= ∂E/∂Y o f'(X)<br>\n",
    "&emsp;&emsp;Be careful, here we are using an element-wise multiplication (o) between the two<br>\n",
    "&emsp;&emsp;matrices (whereas in the formulas above, it was a dot product).<br>\n",
    "&emsp;&emsp;Returns input_error= dE/dX for a given output_error= dE/dY.<br>\n",
    "&emsp;&emsp;learning_rate is not used because there is no \"learnable\" parameters.<br>\n",
    "</div>"
   ]
  },
  {
   "cell_type": "code",
   "execution_count": 4,
   "id": "04f217f7",
   "metadata": {},
   "outputs": [],
   "source": [
    "class ActivationFunctionToUse(Layer):\n",
    "    def __init__(self, activation, activation_prime):\n",
    "        self.activation      = activation\n",
    "        self.activation_prime= activation_prime\n",
    "        self.Name            = \"Activation Layer\"\n",
    "\n",
    "    def ForwardPropagation(self, input_data):\n",
    "        self.input = input_data\n",
    "        self.output= self.activation(self.input)\n",
    "        return(self.output)\n",
    "\n",
    "    def BackwardPropagation(self, output_error, learning_rate):\n",
    "        return(self.activation_prime(self.input) * output_error)"
   ]
  },
  {
   "cell_type": "markdown",
   "id": "4832d950",
   "metadata": {},
   "source": [
    "<div class=\"alert alert-success\">\n",
    "<b>Sigmoid(</b>z<b>)</b><br>\n",
    "The Sigmoid function is possible function that can be used as a non-linear activation function between layers<br>\n",
    "of a neural network. Sigmoid function map input values between 0 and 1.<br>\n",
    "&emsp;<u>Input</u><br>\n",
    "&emsp;&emsp;<u><i>z</i></u><br>\n",
    "&emsp;&emsp;&emsp;Is the input (w_1⋅x_1+w_2⋅x_2+...+w_i⋅x_i+b) of variable we want to optimize.<br>\n",
    "<b>SigmoidPrime(</b>z<b>)</b><br>\n",
    "SigmoidPrime is the derivative of Sigmoid Function. An interesting properties of the Sigmoid function<br>\n",
    "is that the derivative of Sigmoid can be expressed in terms of the function itself.<br>\n",
    "&emsp;<u>Input</u><br>\n",
    "&emsp;&emsp;<u><i>z</i></u><br>\n",
    "&emsp;&emsp;&emsp;Is the input (w_1⋅x_1+w_2⋅x_2+...+w_i⋅x_i+b) of variable we want to optimize.<br><br>\n",
    "<b>Tanh(</b>z<b>)</b><br>\n",
    "The tanh (hyperbolic tangent) function is another possible function that can be used as a non-linear<br>\n",
    "activation function between layers of a neural network. It shares a few things in common with the sigmoid<br>\n",
    "activation function. Unlike a sigmoid function that will map input values between 0 and 1, the Tanh will map<br>\n",
    "values between -1 and 1.<br>\n",
    "&emsp;<u>Input</u><br>\n",
    "&emsp;&emsp;<u><i>z</i></u><br>\n",
    "&emsp;&emsp;&emsp;Is the input (w_1⋅x_1+w_2⋅x_2+...+w_i⋅x_i+b) of variable we want to rescale.<br>\n",
    "<b>TanhPrime(</b>z<b>)</b><br>\n",
    "TanhPrime is the derivative of Tanh Function. Similar to the sigmoid function, one of the interesting properties<br>\n",
    "of the tanh function is that the derivative of tanh can be expressed in terms of the function itself.<br> \n",
    "&emsp;<u>Input</u><br>\n",
    "&emsp;&emsp;<u><i>z</i></u><br>\n",
    "&emsp;&emsp;&emsp;Is the input (w_1⋅x_1+w_2⋅x_2+...+w_i⋅x_i+b) of variable we want to rescale.<br><br>\n",
    "<b>Relu(</b>z<b>)</b><br>\n",
    "Relu is an activation function. Relu is another possible function that can be used as a non-linear<br>\n",
    "The formula is deceptively simple: max(0,z). Despite its name, Rectified Linear Units, it’s not linear and<br>\n",
    "provides the same benefits as Sigmoid but with better performance.<br>\n",
    "&emsp;<u>Input</u><br>\n",
    "&emsp;&emsp;<u><i>z</i></u><br>\n",
    "&emsp;&emsp;&emsp;Is the input (w_1⋅x_1+w_2⋅x_2+...+w_i⋅x_i+b) of variable we want to rescale.<br>\n",
    "<b>ReluPrime(</b>z<b>)</b><br>\n",
    "ReluPrime is the derivative of Relu Function.<br>\n",
    "&emsp;<u>Input</u><br>\n",
    "&emsp;&emsp;<u><i>z</i></u><br>\n",
    "&emsp;&emsp;&emsp;Is the input (w_1⋅x_1+w_2⋅x_2+...+w_i⋅x_i+b) of variable we want to optimize.<br>\n",
    "</div>"
   ]
  },
  {
   "cell_type": "code",
   "execution_count": 5,
   "id": "aa9336a4",
   "metadata": {},
   "outputs": [],
   "source": [
    "def Sigmoid(z):\n",
    "    return(1.0/(1.0+np.exp(-z)))\n",
    "# Derivative of the sigmoid function.\n",
    "def SigmoidPrime(z):\n",
    "    return(Sigmoid(z)*(1-Sigmoid(z)))\n",
    "\n",
    "def Tanh(z):\n",
    "    return(np.tanh(z))\n",
    "def TanhPrime(z):\n",
    "    return(1-np.tanh(z)**2)\n",
    "\n",
    "def Relu(z):\n",
    "    return(np.maximum(0,z))\n",
    "def ReluPrime(z):\n",
    "    return(np.heaviside(z,0))"
   ]
  },
  {
   "cell_type": "markdown",
   "id": "29298a2e",
   "metadata": {},
   "source": [
    "<div class=\"alert alert-info\">\n",
    "Showing non-linear activation functions and its prime (derivative).\n",
    "</div>"
   ]
  },
  {
   "cell_type": "code",
   "execution_count": 6,
   "id": "e0dc99d9",
   "metadata": {},
   "outputs": [
    {
     "data": {
      "image/png": "[encoded data removed]",
      "text/plain": [
       "<Figure size 1080x288 with 3 Axes>"
      ]
     },
     "metadata": {
      "needs_background": "light"
     },
     "output_type": "display_data"
    }
   ],
   "source": [
    "x= np.arange(-6,6,0.01)\n",
    "fig, axes = plt.subplots(1,3, figsize=(15, 4))\n",
    "plt.subplots_adjust(wspace= 0.3)\n",
    "sns.axes_style(rc={'axes.facecolor': 'lavender'})\n",
    "\n",
    "sns.lineplot(x=x, y=Sigmoid(x), ax=axes[0], color=\"darkred\")\n",
    "sns.lineplot(x=x, y=SigmoidPrime(x), ax=axes[0], color=\"darkgreen\") \n",
    "axes[0].set_ylim(-1.5, 1.5)\n",
    "axes[0].set_title(\"Sigmoid(x)\", fontsize=13, color=\"darkred\")\n",
    "axes[0].legend([\"function\", \"prime\"], loc='upper left', fontsize=12)\n",
    "\n",
    "sns.lineplot(x=x, y=Tanh(x), ax=axes[1], color=\"darkred\") \n",
    "sns.lineplot(x=x, y=TanhPrime(x), ax=axes[1], color=\"darkgreen\")\n",
    "axes[1].set_ylim(-1.5, 1.5)\n",
    "axes[1].set_title(\"tanh(x)\", fontsize=13, color=\"darkred\")\n",
    "axes[1].legend([\"function\", \"prime\"], loc='upper left', fontsize=12)\n",
    "\n",
    "sns.lineplot(x=x, y=Relu(x), ax=axes[2], color=\"darkred\") \n",
    "sns.lineplot(x=x, y=ReluPrime(x), ax=axes[2], color=\"darkgreen\")\n",
    "axes[2].set_ylim(-1.5, 1.5)\n",
    "axes[2].set_title(\"Relu(x)\", fontsize=13, color=\"darkred\")\n",
    "axes[2].legend([\"function\", \"prime\"], loc='upper left', fontsize=12)\n",
    "\n",
    "plt.show()"
   ]
  },
  {
   "cell_type": "markdown",
   "id": "9dec82cc",
   "metadata": {},
   "source": [
    "<div class=\"alert alert-success\">\n",
    "<b><u>MEAN SQUARE ERROR / QUADRATIC LOSS / L2 LOSS</u></b><br>\n",
    "Mse (Mean Square Error) loss function define as the average of squared differences between\n",
    "the actual<br>\n",
    "and the predicted value. It’s the most commonly used regression loss function. The corresponding cost<br>\n",
    "function is the mean of these squared errors (Mse). The Mse loss function penalizes the model for making<br>\n",
    "large errors by squaring them and this property makes the Mse cost function less robust to outliers.<br>\n",
    "<br><b>Mse(</b>y_pred,y_true<b>)</b><br>\n",
    "Mse is the loss function<br>\n",
    "&emsp;<u>Input</u><br>\n",
    "&emsp;&emsp;<u><i>y_pred</i></u><br>\n",
    "&emsp;&emsp;&emsp;Is the output prediction vector.<br>\n",
    "&emsp;&emsp;<u><i>y_true</i></u><br>\n",
    "&emsp;&emsp;&emsp;Is the real output vector.<br>\n",
    "<br><b>MsePrime(</b>y_pred,y_true<b>)</b><br>\n",
    "MsePrime is the derivative of the loss function<br>\n",
    "&emsp;<u>Input</u><br>\n",
    "&emsp;&emsp;<u><i>y_pred</i></u><br>\n",
    "&emsp;&emsp;&emsp;Is the output prediction vector.<br>\n",
    "&emsp;&emsp;<u><i>y_true</i></u><br>\n",
    "&emsp;&emsp;&emsp;Is the real output vector.<br>\n",
    "</div>"
   ]
  },
  {
   "cell_type": "code",
   "execution_count": 7,
   "id": "913b6390",
   "metadata": {},
   "outputs": [],
   "source": [
    "def Mse(y_pred,y_true):\n",
    "    return(np.mean(np.power(y_pred-y_true, 2)));\n",
    "\n",
    "def MsePrime(y_pred,y_true):\n",
    "    return(2.0*(y_pred-y_true)/y_true.size);"
   ]
  },
  {
   "cell_type": "markdown",
   "id": "3aff381f",
   "metadata": {},
   "source": [
    "<div class=\"alert alert-success\">\n",
    "<b><u>Class Network</u></b><br>\n",
    "Network is a class. Network implement the gradient descent learning algorithm for a feedforward neural network.<br>\n",
    "Gradients are calculated using backpropagation. This code is simple, easily readable, and easily modifiable.<br>\n",
    "It is not optimized, and omits many desirable features.<br>\n",
    "<br><b><u>Constructor Input</u></b><br>\n",
    "&emsp;<u><i>Nothing</i></u><br>\n",
    "<br><b><u>Methods</u></b><br>\n",
    "&emsp;<b>AddLayer(</b>layer<b>)</b><br>\n",
    "&emsp;&emsp;For every layer the <i>Add</i> function must be called twice.<br>\n",
    "&emsp;&emsp;First, to initialize the weights and biases.<br>\n",
    "&emsp;&emsp;Second, to determine the activation method.<br>\n",
    "&emsp;&emsp;so first :<br> \n",
    "&emsp;&emsp;&emsp;AddLayer(FullyConnectedLayer(input_size, output_size))<br>\n",
    "&emsp;&emsp;follows by :<br>\n",
    "&emsp;&emsp;&emsp;AddLayer(ActivationFunctionToUse(activation, activation_prime))<br>\n",
    "&emsp;&emsp;Where 'input_size' is the number of neurons in the layer, 'output_size' is the number of neurons<br>\n",
    "&emsp;&emsp;in the following layer.<br>\n",
    "&emsp;&emsp;'activation' is the name of thre Activation function, 'activation_prime' is the name of the prime (derivative)<br>\n",
    "&emsp;&emsp;of Activation function.<br><br>\n",
    "&emsp;<b>LossFunctionToUse(</b>loss, loss_prime<b>)</b><br>\n",
    "&emsp;&emsp;Define the loss function names use in fitting process.<br>\n",
    "&emsp;<u>Input</u><br>\n",
    "&emsp;&emsp;<u><i>loss</i></u><br>\n",
    "&emsp;&emsp;&emsp;Is the loss function name.<br>\n",
    "&emsp;&emsp;<u><i>loss_prime</i></u><br>\n",
    "&emsp;&emsp;&emsp;Is the derivative of the loss function name.<br><br>\n",
    "&emsp;<b>PrintLayers()</b><br>\n",
    "&emsp;&emsp;Prints model data, for every layers its variables:<br>\n",
    "&emsp;&emsp;&emsp;if type of layer is 'Fully Connected Layer':<br>\n",
    "&emsp;&emsp;&emsp;&emsp;then it is follows by bias vector and the weights matrix.<br> \n",
    "&emsp;&emsp;&emsp;if type of layer is 'Activation Layer':<br>\n",
    "&emsp;&emsp;&emsp;&emsp;then it is follows by Activation function name and Activation function prime name.<br>\n",
    "&emsp;&emsp;Then prints the Loss function name and Loss function prime name<br><br>\n",
    "&emsp;<b>Predict(</b>input_data<b>)</b><br>\n",
    "&emsp;&emsp;Return the Prediction of the fitting process.<br>\n",
    "&emsp;<u>Input</u><br>\n",
    "&emsp;&emsp;<u><i>input_data</i></u><br>\n",
    "&emsp;&emsp;&emsp;Is the feature vector or vectors.<br>\n",
    "&emsp;The input function is a ndarray categorical vector or vectors.<br>\n",
    "&emsp;Note: Do not forget to reduce the output dimantion use, Look at this example:<br>\n",
    "<font color=\"peru\">\n",
    "&emsp;&emsp;net= Network()<br>\n",
    "&emsp;&emsp;...<br>\n",
    "&emsp;&emsp;Fit(...)<br>\n",
    "&emsp;&emsp;...<br>\n",
    "&emsp;&emsp;X= np.expand_dims(X, axis=1)<br>\n",
    "&emsp;&emsp;Y= net.Predict(X)<br>\n",
    "</font>\n",
    "&emsp;The function return an ndarray categorical prediction.<br>\n",
    "&emsp;Note: Do not forget to reduce the output dimantion use, Look at this example:<br>\n",
    "<font color=\"peru\">\n",
    "&emsp;&emsp;net= Network()<br>\n",
    "&emsp;&emsp;...<br>\n",
    "&emsp;&emsp;Fit(...)<br>\n",
    "&emsp;&emsp;...<br>\n",
    "&emsp;&emsp;Y= net.Predict(X)<br>\n",
    "&emsp;&emsp;np.squeeze(Y, axis=1)<br><br>\n",
    "</font>\n",
    "&emsp;<b>Fit( </b>x_train, y_train, Epochs,<br> \n",
    "&emsp;&emsp;&emsp;Learning_Rate=0.1, Learning_Rate_Decay=0, Decay_Method=\"None\",<br>\n",
    "&emsp;&emsp;&emsp;Validation_Mode=False,_validation=None, y_validation=None,<br>\n",
    "&emsp;&emsp;&emsp;Silent_Mode=True<b> )</b><br>\n",
    "&emsp;&emsp;Return the Prediction of the fitting process.<br>\n",
    "&emsp;<u>Input</u><br>\n",
    "&emsp;&emsp;<u><i>x_train, y_train</i></u><br>\n",
    "&emsp;&emsp;&emsp;Training data, x_train is input features and y_train is categorical output.<br>\n",
    "&emsp;&emsp;<u><i>Epochs</i></u><br>\n",
    "&emsp;&emsp;&emsp;The number times all training data is been implemented by gradient descent learning algorithm.<br>\n",
    "&emsp;&emsp;<u><i>Learning_Rate</i></u><br>\n",
    "&emsp;&emsp;&emsp;is a hyper-parameter that controls how much we are adjusting the weights of our network<br>\n",
    "&emsp;&emsp;&emsp;with respect the loss gradient. This float number should be greater then 0 and less and equal to 1.<br>\n",
    "&emsp;&emsp;&emsp;In most cases, 0.1 should be a starting value.<br>\n",
    "&emsp;&emsp;<u><i>Learning_Rate_Decay</i></u><br>\n",
    "&emsp;&emsp;&emsp;is a hyper-parameter that controls how much we are decaying Learning_Rate  after each epoch<br>\n",
    "&emsp;&emsp;&emsp;passes through the training set. This float number should be greater then 0 and less and equal to 1.<br>\n",
    "&emsp;&emsp;<u><i>Decay_Method</i></u><br>\n",
    "&emsp;&emsp;&emsp;Can be one of these three decay method type:<br>\n",
    "&emsp;&emsp;&emsp;\"None\" - the Learning_Rate is constant and do not change afrer each epoch.<br>\n",
    "&emsp;&emsp;&emsp;&emsp;&emsp;&emsp;No need to provide Learning_Rate_Decay<br>\n",
    "&emsp;&emsp;&emsp;\"Common_Decay\" - the Learning_Rate follow this equation:<br>\n",
    "&emsp;&emsp;&emsp;&emsp;&emsp;&emsp;Learning_Rate= Learning_Rate/(1+Learning_Rate_Decay*epoch_num)<br>\n",
    "&emsp;&emsp;&emsp;&emsp;&emsp;&emsp;Learning_Rate_Decay should be about 10% initial Learning_Rate<br>\n",
    "&emsp;&emsp;&emsp;\"Exponential_Decay\" - the Learning_Rate follow this equation:<br>\n",
    "&emsp;&emsp;&emsp;&emsp;&emsp;&emsp;Learning_Rate= Learning_Rate(Learning_Rate_Decay^epoch_num)<br>\n",
    "&emsp;&emsp;&emsp;&emsp;&emsp;&emsp;Learning_Rate_Decay should be around 0.95<br>\n",
    "&emsp;&emsp;<u><i>Validation_Mode</i></u><br>\n",
    "&emsp;&emsp;&emsp;If <i>Validation_Mode</i> is set to True, the fitting process uses additional claster of<br>\n",
    "&emsp;&emsp;&emsp;datasets named validation, to quantify the relative fit of the model.<br> &emsp;&emsp;&emsp;If <i>Validation_Mode</i> is set to False, the fitting process do not use any additional DataSet.<br>\n",
    "&emsp;&emsp;<u><i>x_validation, y_validation</i></u><br>\n",
    "&emsp;&emsp;&emsp;'x_validation' is input features and y_validation is categorical output.<br>\n",
    "&emsp;&emsp;<u><i>Silent_Mode</i></u><br>\n",
    "&emsp;&emsp;&emsp;If <i>Silent_Mode</i> is set to False, the fitting process prints while processing relevant information.<br>\n",
    "&emsp;&emsp;&emsp;If <i>Silent_Mode</i> is set to True, the fitting process do not prints any information.<br>\n",
    "&emsp;<br><b>Save(</b>TheFileName, Silent_Mode=False<b>)</b><br>\n",
    "&emsp;&emsp;Saves the model data as a txt ascii notation to local hard disk.<br>\n",
    "&emsp;<u>Input</u><br>\n",
    "&emsp;&emsp;<u><i>TheFileName</i></u><br>\n",
    "&emsp;&emsp;&emsp;The name of file name where model data is saved.<br>\n",
    "&emsp;&emsp;<u><i>Silent_Mode</i></u><br>\n",
    "&emsp;&emsp;&emsp;If <i>Silent_Mode</i> is set to False, in addition to saving to a file, relevant information is also displayed.<br>\n",
    "&emsp;&emsp;&emsp;If <i>Silent_Mode</i> is set to True, non relevant information is displayed.<br>\n",
    "</div>"
   ]
  },
  {
   "cell_type": "code",
   "execution_count": 8,
   "id": "39da59eb",
   "metadata": {},
   "outputs": [],
   "source": [
    "class Network:\n",
    "    def __init__(self):\n",
    "        self.layers    = []\n",
    "        self.loss_Name = \"Loss Function\"\n",
    "        self.loss      = None\n",
    "        self.loss_prime= None\n",
    "\n",
    "    # add layer to network\n",
    "    def AddLayer(self, layer):\n",
    "        self.layers.append(layer)\n",
    "\n",
    "    # set loss to use\n",
    "    def LossFunctionToUse(self, loss, loss_prime):\n",
    "        self.loss      = loss\n",
    "        self.loss_prime= loss_prime\n",
    "\n",
    "    def PrintLayers(self):\n",
    "        for layer in self.layers:\n",
    "            if(layer.Name==\"Fully Connected Layer\"):\n",
    "                print(\"\\n====\",layer.Name)\n",
    "                print(layer.bias)\n",
    "                print(layer.weights)\n",
    "            if(layer.Name==\"Activation Layer\"):\n",
    "                print(\"====\",layer.Name)\n",
    "                print(layer.activation.__name__)\n",
    "                print(layer.activation_prime.__name__)\n",
    "        print(\"\\n====\",net2.loss_Name)\n",
    "        print(net2.loss.__name__)\n",
    "        print(net2.loss_prime.__name__)\n",
    "        \n",
    "    # predict output for given input\n",
    "    def Predict(self, input_data):\n",
    "        # sample dimension first\n",
    "        samples= len(input_data)\n",
    "        result = []\n",
    "        # run network over all samples\n",
    "        for iii in range(samples):\n",
    "            # forward propagation\n",
    "            output= input_data[iii]\n",
    "            for layer in self.layers:\n",
    "                output= layer.ForwardPropagation(output)\n",
    "            result.append(output)\n",
    "        return result\n",
    "\n",
    "    def Acurancy(YY_True, YY_Prediction):\n",
    "        TotolHits= 0\n",
    "        TotalSets= YY_True.shape[0]\n",
    "        for iii in range(TotalSets):\n",
    "            if(np.argmax(YY_True[iii])==np.argmax(YY_Prediction[iii])):\n",
    "                TotolHits+= 1\n",
    "        return(TotolHits/TotalSets*100)\n",
    "\n",
    "    def LearningDecay(self, Epoch_Number, Learning_Rate, Learning_Rate_Decay, Decay_Method ):\n",
    "        if(Epoch_Number==0):\n",
    "            return(Learning_Rate)\n",
    "        if(Decay_Method == \"None\"):\n",
    "            return(Learning_Rate) \n",
    "        if(Decay_Method == \"Common_Decay\"):\n",
    "            return(Learning_Rate*(1.0+(Learning_Rate_Decay*Epoch_Number))) \n",
    "        if(Decay_Method == \"Exponential_Decay\"):\n",
    "            return(Learning_Rate*(pow(Learning_Rate_Decay,Epoch_Number))) \n",
    "    \n",
    "    # train the network\n",
    "    def Fit(self, x_train, y_train,\n",
    "            Epochs=30, Learning_Rate=0.1, Learning_Rate_Decay=0, Decay_Method=\"None\", \n",
    "            Validation_Mode=False,\n",
    "            x_validation=None, y_validation=None,\n",
    "            Silent_Mode=True):\n",
    "        Results= []\n",
    "        # Total train samples\n",
    "        Train_Samples = len(x_train)\n",
    "        # training loop\n",
    "        \n",
    "        for iii in range(Epochs):\n",
    "            Learning_Rate= self.LearningDecay(iii, Learning_Rate, Learning_Rate_Decay, Decay_Method )\n",
    "            Train_Error= 0\n",
    "            for jjj in range(Train_Samples):\n",
    "                # forward propagation\n",
    "                output= x_train[jjj]\n",
    "                for layer in self.layers:\n",
    "                    output= layer.ForwardPropagation(output)\n",
    "                # compute loss (for display purpose only)\n",
    "                Train_Error+= self.loss(output, y_train[jjj])\n",
    "                # backward propagation\n",
    "                Error= self.loss_prime(output, y_train[jjj])\n",
    "                for layer in reversed(self.layers):\n",
    "                    Error= layer.BackwardPropagation(Error, Learning_Rate)\n",
    "            # calculate average error on all Train Samples\n",
    "            Train_Error/= Train_Samples\n",
    "            if(Validation_Mode==False):\n",
    "                if(not Silent_Mode):\n",
    "                    print(\"epoch %d/%d   error=%f\" %(iii+1, Epochs, Train_Error))\n",
    "                Results.append([iii+1,Train_Error])\n",
    "            else:\n",
    "                # Total Validation samples\n",
    "                Validation_Samples= len(x_validation)\n",
    "                Validation_Error= 0\n",
    "                for jjj in range(Validation_Samples):\n",
    "                    # forward propagation\n",
    "                    output= x_validation[jjj]\n",
    "                    for layer in self.layers:\n",
    "                        output= layer.ForwardPropagation(output)\n",
    "                    # compute loss (for display purpose only)\n",
    "                    Validation_Error+= self.loss(output, y_validation[jjj])\n",
    "                # calculate average error on all Train Samples\n",
    "                Validation_Error/= Validation_Samples\n",
    "                if(not Silent_Mode):\n",
    "                    xv_validation= x_validation\n",
    "                    yv_validation= y_validation\n",
    "                    yv_Prediction= self.Predict(xv_validation)\n",
    "                    yv_Prediction= np.squeeze(yv_Prediction, axis=1)\n",
    "                    # calculate validation acurancy\n",
    "                    TotolHits= 0\n",
    "                    for kkk in range(Validation_Samples):\n",
    "                        if(np.argmax(yv_Prediction[kkk])==np.argmax(yv_validation[kkk])):\n",
    "                            TotolHits+= 1\n",
    "                    Validation_Acurancy= TotolHits/Validation_Samples*100\n",
    "                    print(\"epoch %3d/%3d   Train Error=%f   Val Error= %f   Val Acurancy= %f\" \\\n",
    "                          %(iii+1, Epochs, Train_Error, Validation_Error, Validation_Acurancy))\n",
    "                Results.append([iii+1,Train_Error,Validation_Error, Validation_Acurancy])\n",
    "        return(Results, Validation_Mode)\n",
    "            \n",
    "    def Save(self, TheFileName, Silent_Mode=False):\n",
    "        with open(TheFileName, \"w\") as hfile:\n",
    "            Total_Of_Layer= len(self.layers)\n",
    "            if(not Silent_Mode):\n",
    "                print(Total_Of_Layer)\n",
    "            hfile.write('{}\\n'.format(Total_Of_Layer))\n",
    "\n",
    "            for lll in range(0,Total_Of_Layer):\n",
    "                if(lll!=int(lll/2)*2):\n",
    "                    if(not Silent_Mode):\n",
    "                        print(self.layers[lll].activation.__name__)\n",
    "                    hfile.write('{}\\n'.format(self.layers[lll].activation.__name__))\n",
    "                    if(not Silent_Mode):\n",
    "                        print(self.layers[lll].activation_prime.__name__)\n",
    "                    hfile.write('{}\\n'.format(self.layers[lll].activation_prime.__name__))\n",
    "                else:\n",
    "                    hfile.write('\\n')\n",
    "                    Total_Of_Weights= len(self.layers[lll].weights)\n",
    "                    if(not Silent_Mode):\n",
    "                        print(Total_Of_Weights)\n",
    "                    hfile.write('{}\\n'.format(Total_Of_Weights))\n",
    "\n",
    "                    Total_Of_Bias= len(self.layers[lll].bias[0])\n",
    "                    if(not Silent_Mode):\n",
    "                        print(Total_Of_Bias)\n",
    "                    hfile.write('{}\\n'.format(Total_Of_Bias))\n",
    "\n",
    "                    hfile.write('\\n')\n",
    "                    for bbb in range(Total_Of_Bias):\n",
    "                        if(not Silent_Mode):\n",
    "                            print(self.layers[lll].bias[0][bbb])\n",
    "                        hfile.write('{}\\n'.format(self.layers[lll].bias[0][bbb]))\n",
    "\n",
    "                    for bbb in range(Total_Of_Weights):\n",
    "                        hfile.write('\\n')\n",
    "                        for eee in range(Total_Of_Bias):\n",
    "                            if(not Silent_Mode):\n",
    "                                print(self.layers[lll].weights[bbb][eee])\n",
    "                            hfile.write('{}\\n'.format(self.layers[lll].weights[bbb][eee]))\n",
    "            hfile.write('\\n')\n",
    "            if(not Silent_Mode):\n",
    "                print(self.loss.__name__)\n",
    "            hfile.write('{}\\n'.format(self.loss.__name__))\n",
    "            if(not Silent_Mode):\n",
    "                print(self.loss_prime.__name__)\n",
    "            hfile.write('{}\\n'.format(self.loss_prime.__name__))\n",
    "\n",
    "        hfile.close()"
   ]
  },
  {
   "cell_type": "markdown",
   "id": "9fdff1c6",
   "metadata": {},
   "source": [
    "<div class=\"alert alert-success\">\n",
    "<b><u>LoadNeuralNetworkData</u></b><br>\n",
    "Reads the model data from a txt ascii notation.<br>\n",
    "<br><b>LoadNeuralNetworkData(</b>TheFileName, Silent_Mode=False<b>)</b><br>\n",
    "&emsp;<u>Input</u><br>\n",
    "&emsp;&emsp;<u><i>TheFileName</i></u><br>\n",
    "&emsp;&emsp;&emsp;The name of file name where model data is saved.<br>\n",
    "&emsp;&emsp;<u><i>Silent_Mode</i></u><br>\n",
    "&emsp;&emsp;&emsp;If <i>Silent_Mode</i> is set to False, in addition to reading from a file, relevant information is also displayed.<br>\n",
    "&emsp;&emsp;&emsp;If <i>Silent_Mode</i> is set to True, non relevant information is displayed.<br>\n",
    "/div>"
   ]
  },
  {
   "cell_type": "code",
   "execution_count": 9,
   "id": "cde59d6c",
   "metadata": {},
   "outputs": [],
   "source": [
    "def LoadNeuralNetworkData(TheFileName, Silent_Mode=False):\n",
    "    TheNet= Network()\n",
    "    with open(TheFileName, \"r\") as hfile:\n",
    "       \n",
    "        MyString= str(hfile.readline())\n",
    "        Total_Of_Layer= int(MyString[:-1])\n",
    "        if(not Silent_Mode):\n",
    "            print(Total_Of_Layer)\n",
    "        EmptyLine= str(hfile.readline())\n",
    "        if(not Silent_Mode):\n",
    "            print(\" \")\n",
    "        \n",
    "        for lll in range(0,Total_Of_Layer):\n",
    "            if(lll!=int(lll/2)*2):\n",
    "                Activation_Function_Name= hfile.readline()\n",
    "                Activation_Function_Name= Activation_Function_Name[:-1]\n",
    "                if(not Silent_Mode):\n",
    "                    print(Activation_Function_Name)\n",
    "                Activation_Prime_Function_Name= hfile.readline()\n",
    "                Activation_Prime_Function_Name= Activation_Prime_Function_Name[:-1]\n",
    "                if(not Silent_Mode):\n",
    "                    print(Activation_Prime_Function_Name)\n",
    "                EmptyLine= str(hfile.readline())\n",
    "                if(not Silent_Mode):\n",
    "                    print(\" \")\n",
    "                TheNet.AddLayer(ActivationFunctionToUse(eval(Activation_Function_Name), \n",
    "                                            eval(Activation_Prime_Function_Name)))\n",
    "                \n",
    "            else:\n",
    "                MyString= str(hfile.readline())\n",
    "                Total_Of_Weights= int(MyString[:-1]) \n",
    "                if(not Silent_Mode):\n",
    "                    print(Total_Of_Weights)\n",
    "\n",
    "                MyString= str(hfile.readline())\n",
    "                Total_Of_Bias= int(MyString[:-1]) \n",
    "                if(not Silent_Mode):\n",
    "                    print(Total_Of_Bias)\n",
    "\n",
    "                TheNet.AddLayer(FullyConnectedLayer(Total_Of_Weights, Total_Of_Bias))\n",
    "                \n",
    "                EmptyLine= str(hfile.readline())\n",
    "                if(not Silent_Mode):\n",
    "                    print(\" \")\n",
    "                for bbb in range(Total_Of_Bias):\n",
    "                    MyString= str(hfile.readline())\n",
    "                    MyString= float(MyString[:-1])\n",
    "                    if(not Silent_Mode):\n",
    "                        print(MyString)\n",
    "                    TheNet.layers[lll].bias[0][bbb]= MyString\n",
    "                \n",
    "                for bbb in range(Total_Of_Weights):\n",
    "                    EmptyLine= str(hfile.readline())\n",
    "                    if(not Silent_Mode):\n",
    "                        print(\" \")\n",
    "                    for eee in range(Total_Of_Bias):\n",
    "                        MyString= str(hfile.readline())\n",
    "                        MyString= float(MyString[:-1])\n",
    "                        if(not Silent_Mode):\n",
    "                            print(MyString)\n",
    "                        TheNet.layers[lll].weights[bbb][eee]= MyString\n",
    "        \n",
    "        Loss_Function_Name= hfile.readline()\n",
    "        Loss_Function_Name= Loss_Function_Name[:-1]\n",
    "        if(not Silent_Mode):\n",
    "            print(Loss_Function_Name)\n",
    "        \n",
    "        Loss_Prime_Function_Name= hfile.readline()\n",
    "        Loss_Prime_Function_Name= Loss_Prime_Function_Name[:-1]\n",
    "        if(not Silent_Mode):\n",
    "            print(Loss_Prime_Function_Name)\n",
    "        \n",
    "        TheNet.LossFunctionToUse(eval(Loss_Function_Name), eval(Loss_Prime_Function_Name))\n",
    "    \n",
    "    hfile.close()\n",
    "    return(TheNet)"
   ]
  },
  {
   "cell_type": "code",
   "execution_count": null,
   "id": "fedd3c3c",
   "metadata": {},
   "outputs": [],
   "source": []
  },
  {
   "cell_type": "code",
   "execution_count": null,
   "id": "c24095c2",
   "metadata": {},
   "outputs": [],
   "source": []
  },
  {
   "cell_type": "markdown",
   "id": "7e3416cd",
   "metadata": {},
   "source": [
    "<div class=\"alert alert-danger\">\n",
    "<b><u>Loading and preparing DataFrame to run Neural Network process.</u></b><br>\n",
    "&emsp;Iris.csv<br>\n",
    "&emsp;The Iris dataset is a very small dataset just for the purpose of testing and debuging.<br>\n",
    "&emsp;It was used in R.A. Fisher's classic 1936 paper, The Use of Multiple Measurements in<br> &emsp;Taxonomic Problems, and can also be found on the UCI Machine Learning Repository.<br>\n",
    "&emsp;It includes three iris species with 150 samples each as well as some properties about each<br>\n",
    "&emsp;flower. One flower species is linearly separable from the other two, but the other two<br> &emsp;are not linearly separable from each other.<br> \n",
    "&emsp;The columns in this dataset are:<br> \n",
    "&emsp;&emsp;sepal_length<br>\n",
    "&emsp;&emsp;sepal_width<br>\n",
    "&emsp;&emsp;petal_length<br>\n",
    "&emsp;&emsp;petal_width<br>\n",
    "&emsp;&emsp;class<br>\n",
    "&emsp;all lenght and width are in cm, and class attribute can be one of:<br>\n",
    "&emsp;&emsp;0 -- Iris Setosa<br>\n",
    "&emsp;&emsp;1 -- Iris Versicolour<br>\n",
    "&emsp;&emsp;2 -- Iris Virginica<br>\n",
    "&emsp;More information can be found at the kaggle page: \n",
    "<a href=\"https://www.kaggle.com/datasets/uciml/iris\">Iris Species</a><br>\n",
    "</div>"
   ]
  },
  {
   "cell_type": "markdown",
   "id": "86d32c31",
   "metadata": {},
   "source": [
    "<div class=\"alert alert-info\">\n",
    "Open data file read and preview the data set.\n",
    "</div>"
   ]
  },
  {
   "cell_type": "code",
   "execution_count": 10,
   "id": "066b07fa",
   "metadata": {},
   "outputs": [
    {
     "data": {
      "text/html": [
       "<div>\n",
       "<style scoped>\n",
       "    .dataframe tbody tr th:only-of-type {\n",
       "        vertical-align: middle;\n",
       "    }\n",
       "\n",
       "    .dataframe tbody tr th {\n",
       "        vertical-align: top;\n",
       "    }\n",
       "\n",
       "    .dataframe thead th {\n",
       "        text-align: right;\n",
       "    }\n",
       "</style>\n",
       "<table border=\"1\" class=\"dataframe\">\n",
       "  <thead>\n",
       "    <tr style=\"text-align: right;\">\n",
       "      <th></th>\n",
       "      <th>sepal_length</th>\n",
       "      <th>sepal_width</th>\n",
       "      <th>petal_length</th>\n",
       "      <th>petal_width</th>\n",
       "      <th>class</th>\n",
       "    </tr>\n",
       "  </thead>\n",
       "  <tbody>\n",
       "    <tr>\n",
       "      <th>0</th>\n",
       "      <td>5.1</td>\n",
       "      <td>3.5</td>\n",
       "      <td>1.4</td>\n",
       "      <td>0.2</td>\n",
       "      <td>0</td>\n",
       "    </tr>\n",
       "    <tr>\n",
       "      <th>1</th>\n",
       "      <td>4.9</td>\n",
       "      <td>3.0</td>\n",
       "      <td>1.4</td>\n",
       "      <td>0.2</td>\n",
       "      <td>0</td>\n",
       "    </tr>\n",
       "    <tr>\n",
       "      <th>2</th>\n",
       "      <td>4.7</td>\n",
       "      <td>3.2</td>\n",
       "      <td>1.3</td>\n",
       "      <td>0.2</td>\n",
       "      <td>0</td>\n",
       "    </tr>\n",
       "  </tbody>\n",
       "</table>\n",
       "</div>"
      ],
      "text/plain": [
       "   sepal_length  sepal_width  petal_length  petal_width  class\n",
       "0           5.1          3.5           1.4          0.2      0\n",
       "1           4.9          3.0           1.4          0.2      0\n",
       "2           4.7          3.2           1.3          0.2      0"
      ]
     },
     "execution_count": 10,
     "metadata": {},
     "output_type": "execute_result"
    }
   ],
   "source": [
    "Data= pd.read_csv('Iris.csv')\n",
    "pd.options.display.max_columns = None\n",
    "Data.head(3)"
   ]
  },
  {
   "cell_type": "markdown",
   "id": "4c5e42b3",
   "metadata": {},
   "source": [
    "<div class=\"alert alert-info\">\n",
    "Count the number of missing values in data set.\n",
    "</div>"
   ]
  },
  {
   "cell_type": "code",
   "execution_count": 11,
   "id": "4c1c408b",
   "metadata": {},
   "outputs": [
    {
     "name": "stdout",
     "output_type": "stream",
     "text": [
      "Attribute              Number of\n",
      "name                   missing values\n",
      "---------              --------------\n",
      "sepal_length           0\n",
      "sepal_width            0\n",
      "petal_length           0\n",
      "petal_width            0\n",
      "class                  0\n"
     ]
    }
   ],
   "source": [
    "print(\"Attribute              Number of\")\n",
    "print(\"name                   missing values\")\n",
    "print(\"---------              --------------\")\n",
    "TheSum  = Data.isnull().sum()\n",
    "TotlaSum= TheSum.shape[0]\n",
    "for iii in range(TotlaSum):  \n",
    "    print(\"{}   {}\".format(Data.columns.values[iii].ljust(20, ' '), TheSum[iii]))\n"
   ]
  },
  {
   "cell_type": "markdown",
   "id": "fb7cd813",
   "metadata": {},
   "source": [
    "<div class=\"alert alert-info\">\n",
    "Showing attribute distributions of datasets.\n",
    "</div>"
   ]
  },
  {
   "cell_type": "code",
   "execution_count": 12,
   "id": "e822636f",
   "metadata": {},
   "outputs": [
    {
     "data": {
      "image/png": "[encoded data removed]",
      "text/plain": [
       "<Figure size 1080x576 with 6 Axes>"
      ]
     },
     "metadata": {
      "needs_background": "light"
     },
     "output_type": "display_data"
    }
   ],
   "source": [
    "fig, allaxes = plt.subplots(2, 3,figsize=(15,8))\n",
    "plt.subplots_adjust(hspace= 0.4, wspace= 0.3)\n",
    "axes= allaxes.ravel()\n",
    "\n",
    "sns.histplot(Data['sepal_length'], kde=True, ax=axes[0], color=['darkred'])\n",
    "sns.histplot(Data['sepal_width'], kde=True, ax=axes[1], color=['darkred'])\n",
    "sns.histplot(Data['petal_length'], kde=True, ax=axes[2], color=['darkred'])\n",
    "sns.histplot(Data['petal_width'], kde=True, ax=axes[3], color=['darkred'])\n",
    "sns.histplot(Data['class'], kde=True, ax=axes[4], color=['darkred'])\n",
    "sns.scatterplot(x='sepal_length',y='petal_length', data=Data, ax=axes[5], color=['darkred'])\n",
    "\n",
    "plt.show()"
   ]
  },
  {
   "cell_type": "markdown",
   "id": "92c16812",
   "metadata": {},
   "source": [
    "<div class=\"alert alert-success\">\n",
    "<b><u>ShuffleAndSplitData</u></b><br>\n",
    "ShuffleAndSplitData is a function serving as an poor mans's alternative to sklearn's <i>train_test_split</i> function.<br>\n",
    "The purpose of the function is to split arrays or matrices into random train and test subsets.<br>\n",
    "Our function is using only the pandas library<br><br>\n",
    "<b>ShuffleAndSplitData(</b>Data, ratio<b>)</b><br>\n",
    "&emsp;<u>Input</u><br>\n",
    "&emsp;&emsp;<u><i>Data</i></u><br>\n",
    "&emsp;&emsp;&emsp;Is a DataFrame. It is the data to be shuffle and split.<br>\n",
    "&emsp;&emsp;<u><i>ratio</i></u><br>\n",
    "&emsp;&emsp;&emsp;Is a float. It should be between 0.0 and 1.0 and represent the proportion of the dataset to include<br>\n",
    "&emsp;&emsp;&emsp;in the train split.<br>\n",
    "&emsp;The function returns two DataFrames corresponding to Train, Test respectively.\n",
    "</div>"
   ]
  },
  {
   "cell_type": "code",
   "execution_count": 13,
   "id": "ba2cc7c0",
   "metadata": {},
   "outputs": [],
   "source": [
    "def ShuffleAndSplitData(Data, ratio):\n",
    "    # Select ratio\n",
    "    #ratio = 0.75\n",
    "    Data= Data.sample(frac=1, ignore_index=True)\n",
    "\n",
    "    total_rows = Data.shape[0]\n",
    "    train_size = int(total_rows*ratio)\n",
    "\n",
    "    # Split data into test and train\n",
    "    Train = Data[0:train_size]\n",
    "    Test = Data[train_size:]\n",
    "    Test.index= np.arange(0,len(Test))\n",
    "    return(Train, Test)"
   ]
  },
  {
   "cell_type": "markdown",
   "id": "4cdfe196",
   "metadata": {},
   "source": [
    "<div class=\"alert alert-info\">\n",
    "Preparing the data: spliting (train and validation) and decomposing the data into features (XX) and output (YY).\n",
    "</div>"
   ]
  },
  {
   "cell_type": "code",
   "execution_count": 14,
   "id": "03ab4321",
   "metadata": {},
   "outputs": [
    {
     "name": "stdout",
     "output_type": "stream",
     "text": [
      "Total Number Of Features    : 4\n",
      "Total XX Train samples      : 120\n",
      "Total YY Train samples      : 120\n",
      "Total XX Validation samples : 30\n",
      "Total YY Validation samples : 30\n"
     ]
    }
   ],
   "source": [
    "XX_train, XX_validation= ShuffleAndSplitData(Data, 0.8)\n",
    "YY_train= XX_train['class']\n",
    "XX_train= XX_train.drop('class',axis=1)\n",
    "YY_validation= XX_validation['class']\n",
    "XX_validation= XX_validation.drop('class',axis=1)\n",
    "print('Total Number Of Features    :', XX_train.shape[1])\n",
    "print(\"Total XX Train samples      :\", XX_train.shape[0])\n",
    "print(\"Total YY Train samples      :\", YY_train.shape[0])\n",
    "print(\"Total XX Validation samples :\", XX_validation.shape[0])\n",
    "print(\"Total YY Validation samples :\", YY_validation.shape[0])"
   ]
  },
  {
   "cell_type": "markdown",
   "id": "ab29ae5b",
   "metadata": {},
   "source": [
    "<div class=\"alert alert-info\">\n",
    "More Preparations: reset indexing (train and validation) and converting the DataFrame to a multidimensional arrays.<br>\n",
    "As will be clarified later, we laso have to increase the dimension of the multidimensional arrays by an additional dimension.\n",
    "</div>"
   ]
  },
  {
   "cell_type": "code",
   "execution_count": 15,
   "id": "ec2ede0f",
   "metadata": {},
   "outputs": [],
   "source": [
    "XX_train           = XX_train.reset_index(drop=True)\n",
    "XXX_train          = XX_train.iloc[:,:].values\n",
    "XXX_Predict_Test   = XXX_train[0]\n",
    "XXX_train          = np.expand_dims(XXX_train, axis=1)\n",
    "\n",
    "YY_train           = YY_train.reset_index(drop=True)\n",
    "YYY_train_Temp     = YY_train.iloc[:].values\n",
    "YYY_Predict_Test   = YYY_train_Temp[0]\n",
    "\n",
    "XX_validation      = XX_validation.reset_index(drop=True)\n",
    "XXX_validation     = XX_validation.iloc[:,:].values\n",
    "\n",
    "XXX_validation     = np.expand_dims(XXX_validation, axis=1)\n",
    "YY_validation      = YY_validation.reset_index(drop=True)\n",
    "YYY_validation_Temp= YY_validation.iloc[:].values"
   ]
  },
  {
   "cell_type": "markdown",
   "id": "36d0a6ec",
   "metadata": {},
   "source": [
    "<div class=\"alert alert-success\">\n",
    "<b><u>ConvertToCategorical</u></b><br>\n",
    "ConvertToCategorical is a function serving as an poor mans's alternative to keras's <i>np_utils.to_categorical(y)</i> function.<br>\n",
    "The purpose of the function is to encode output of a number in range [0,N] into a vector of size N<br>\n",
    "e.g. supposing ther is 4 posible classes (0,1,2,3) and a supposing a feature output class have the value 2,<br>\n",
    "the function will convert the value to a vector [0, 0, 1, 0].<br>\n",
    "Our function is using only the pandas library<br><br>\n",
    "<b>ConvertToCategorical(</b>Input_Vector, Totral_Categories, Categor_Type<b>)</b><br>\n",
    "&emsp;<u>Input</u><br>\n",
    "&emsp;&emsp;<u><i>Data</i></u><br>\n",
    "&emsp;&emsp;&emsp;Is a DataFrame. It is the data to be shuffle and split.<br>\n",
    "&emsp;&emsp;<u><i>ratio</i></u><br>\n",
    "&emsp;&emsp;&emsp;Is a float. It should be between 0.0 and 1.0 and represent the proportion of the dataset to include<br>\n",
    "&emsp;&emsp;&emsp;in the train split.<br>\n",
    "&emsp;The function returns two DataFrames corresponding to Train, Test respectively.\n",
    "</div>"
   ]
  },
  {
   "cell_type": "code",
   "execution_count": 16,
   "id": "4c0e0b0c",
   "metadata": {},
   "outputs": [],
   "source": [
    "def ConvertToCategorical(Input_Vector, Totral_Categories=None, Categor_Type=\"float32\"):\n",
    "    Total_Vector_Length= Input_Vector.shape[0]\n",
    "    if not Totral_Categories:\n",
    "        Totral_Categories= np.max(Input_Vector)+1\n",
    "    Output_Categoricals= np.zeros((Total_Vector_Length, Totral_Categories), dtype=Categor_Type)\n",
    "    Output_Categoricals[np.arange(Total_Vector_Length), Input_Vector]= 1\n",
    "    return(Output_Categoricals)"
   ]
  },
  {
   "cell_type": "markdown",
   "id": "9579128e",
   "metadata": {},
   "source": [
    "<div class=\"alert alert-info\">\n",
    "Activate ConvertToCategorical function on train and validation data.\n",
    "</div>"
   ]
  },
  {
   "cell_type": "code",
   "execution_count": 17,
   "id": "43ec22b5",
   "metadata": {},
   "outputs": [],
   "source": [
    "YYY_train     = ConvertToCategorical(YYY_train_Temp)\n",
    "YYY_validation= ConvertToCategorical(YYY_validation_Temp)"
   ]
  },
  {
   "cell_type": "code",
   "execution_count": null,
   "id": "75544d4d",
   "metadata": {},
   "outputs": [],
   "source": []
  },
  {
   "cell_type": "code",
   "execution_count": null,
   "id": "3dd4e2a4",
   "metadata": {},
   "outputs": [],
   "source": []
  },
  {
   "cell_type": "markdown",
   "id": "e288b781",
   "metadata": {},
   "source": [
    "<div class=\"alert alert-danger\">\n",
    "<b><u>Implementing Neural Network learning algorithm on Iris data.</u></b><br>\n",
    "ᐅ&emsp;First, Creating Neural Network Object, layers and activation function.<br>\n",
    "ᐅ&emsp;Second, Setting up loss function.<br>\n",
    "ᐅ&emsp;Third, Fitting the model.<br>\n",
    "ᐅ&emsp;Fourth, Predicting<br>\n",
    "ᐅ&emsp;Fifth, Saving model<br>\n",
    "ᐅ&emsp;Sixth, Loading model<br>\n",
    "ᐅ&emsp;Seventh, Printing model<br>\n",
    "</div>"
   ]
  },
  {
   "cell_type": "markdown",
   "id": "44b7cd28",
   "metadata": {},
   "source": [
    "<div class=\"alert alert-info\">\n",
    "Showing Neural Network properties.\n",
    "</div>"
   ]
  },
  {
   "cell_type": "code",
   "execution_count": 18,
   "id": "d61e2ca8",
   "metadata": {},
   "outputs": [
    {
     "data": {
      "image/png": "[encoded data removed]",
      "text/plain": [
       "<Figure size 432x288 with 1 Axes>"
      ]
     },
     "metadata": {
      "needs_background": "light"
     },
     "output_type": "display_data"
    }
   ],
   "source": [
    "AllNeuralNetwork= DrawNN.NeuralNetworkDisplay( [4,5,5,3], [\"Tanh\", \"Tanh\", \"Sigmoid\"] )\n",
    "AllNeuralNetwork.Draw()"
   ]
  },
  {
   "cell_type": "markdown",
   "id": "8364b4a7",
   "metadata": {},
   "source": [
    "<div class=\"alert alert-info\">\n",
    "Creating Neural Network Object, and adding layers properties and activation function to be used\n",
    "    properties.\n",
    "</div>"
   ]
  },
  {
   "cell_type": "code",
   "execution_count": 19,
   "id": "dcd18da5",
   "metadata": {},
   "outputs": [],
   "source": [
    "# Network\n",
    "net = Network()\n",
    "net.AddLayer(FullyConnectedLayer(4, 5))\n",
    "net.AddLayer(ActivationFunctionToUse(Tanh, TanhPrime))\n",
    "net.AddLayer(FullyConnectedLayer(5, 5))\n",
    "net.AddLayer(ActivationFunctionToUse(Tanh, TanhPrime))\n",
    "net.AddLayer(FullyConnectedLayer(5, 3))\n",
    "net.AddLayer(ActivationFunctionToUse(Sigmoid, SigmoidPrime))"
   ]
  },
  {
   "cell_type": "markdown",
   "id": "eaebf6df",
   "metadata": {},
   "source": [
    "<div class=\"alert alert-info\">\n",
    "Setting up loss function to be used between the actual and the predicted value.\n",
    "</div>"
   ]
  },
  {
   "cell_type": "code",
   "execution_count": 20,
   "id": "e0c6bd54",
   "metadata": {},
   "outputs": [],
   "source": [
    "net.LossFunctionToUse(Mse, MsePrime)"
   ]
  },
  {
   "cell_type": "markdown",
   "id": "9f085e41",
   "metadata": {},
   "source": [
    "<div class=\"alert alert-info\">\n",
    "Fitting the model from data sets.\n",
    "</div>"
   ]
  },
  {
   "cell_type": "code",
   "execution_count": 21,
   "id": "63f6498b",
   "metadata": {},
   "outputs": [
    {
     "name": "stdout",
     "output_type": "stream",
     "text": [
      "epoch   1/ 20   Train Error=0.239466   Val Error= 0.198806   Val Acurancy= 66.666667\n",
      "epoch   2/ 20   Train Error=0.171854   Val Error= 0.145753   Val Acurancy= 66.666667\n",
      "epoch   3/ 20   Train Error=0.135625   Val Error= 0.126003   Val Acurancy= 66.666667\n",
      "epoch   4/ 20   Train Error=0.123669   Val Error= 0.117598   Val Acurancy= 70.000000\n",
      "epoch   5/ 20   Train Error=0.117930   Val Error= 0.111424   Val Acurancy= 86.666667\n",
      "epoch   6/ 20   Train Error=0.113979   Val Error= 0.105661   Val Acurancy= 100.000000\n",
      "epoch   7/ 20   Train Error=0.110748   Val Error= 0.099680   Val Acurancy= 100.000000\n",
      "epoch   8/ 20   Train Error=0.107677   Val Error= 0.093063   Val Acurancy= 100.000000\n",
      "epoch   9/ 20   Train Error=0.104357   Val Error= 0.085774   Val Acurancy= 100.000000\n",
      "epoch  10/ 20   Train Error=0.100728   Val Error= 0.077615   Val Acurancy= 100.000000\n",
      "epoch  11/ 20   Train Error=0.096878   Val Error= 0.068937   Val Acurancy= 100.000000\n",
      "epoch  12/ 20   Train Error=0.092936   Val Error= 0.060782   Val Acurancy= 100.000000\n",
      "epoch  13/ 20   Train Error=0.088939   Val Error= 0.053355   Val Acurancy= 100.000000\n",
      "epoch  14/ 20   Train Error=0.084199   Val Error= 0.046922   Val Acurancy= 100.000000\n",
      "epoch  15/ 20   Train Error=0.080194   Val Error= 0.041274   Val Acurancy= 100.000000\n",
      "epoch  16/ 20   Train Error=0.076644   Val Error= 0.036890   Val Acurancy= 100.000000\n",
      "epoch  17/ 20   Train Error=0.070659   Val Error= 0.033301   Val Acurancy= 100.000000\n",
      "epoch  18/ 20   Train Error=0.063912   Val Error= 0.030493   Val Acurancy= 100.000000\n",
      "epoch  19/ 20   Train Error=0.062307   Val Error= 0.028462   Val Acurancy= 100.000000\n",
      "epoch  20/ 20   Train Error=0.065745   Val Error= 0.027186   Val Acurancy= 100.000000\n"
     ]
    }
   ],
   "source": [
    "'''(Results, Validation)= net.Fit(XXX_train, YYY_train, \n",
    "                               Epochs=20, Learning_Rate=0.1, \n",
    "                               Learning_Rate_Decay= 0.01, Decay_Method= \"Common_Decay\",\n",
    "                               Validation_Mode=True,\n",
    "                               x_validation=XXX_validation, y_validation=YYY_validation,\n",
    "                               Silent_Mode=False)\n",
    "(Results, Validation)= net.Fit(XXX_train, YYY_train, \n",
    "                               Epochs=20, Learning_Rate=0.1, \n",
    "                               Learning_Rate_Decay= 0.95, Decay_Method= \"Exponential_Decay\",\n",
    "                               Validation_Mode=True,\n",
    "                               x_validation=XXX_validation, y_validation=YYY_validation,\n",
    "                               Silent_Mode=False)'''\n",
    "(Results, Validation)= net.Fit(XXX_train, YYY_train, \n",
    "                               Epochs=20, Learning_Rate=0.1, \n",
    "                               Learning_Rate_Decay= 0.0, Decay_Method= \"None\",\n",
    "                               Validation_Mode=True,\n",
    "                               x_validation=XXX_validation, y_validation=YYY_validation,\n",
    "                               Silent_Mode=False)"
   ]
  },
  {
   "cell_type": "markdown",
   "id": "3909bdd2",
   "metadata": {},
   "source": [
    "<div class=\"alert alert-info\">\n",
    "Showing training loss function as function of epoch, and as option also valodation loss function and acurancy.\n",
    "</div>"
   ]
  },
  {
   "cell_type": "code",
   "execution_count": 22,
   "id": "d9841ea4",
   "metadata": {},
   "outputs": [
    {
     "data": {
      "image/png": "[encoded data removed]",
      "text/plain": [
       "<Figure size 1080x288 with 2 Axes>"
      ]
     },
     "metadata": {
      "needs_background": "light"
     },
     "output_type": "display_data"
    }
   ],
   "source": [
    "if(Validation==True):\n",
    "    fig, axes= plt.subplots(ncols=2, nrows=1, figsize=(15,4))\n",
    "    plt.subplots_adjust(wspace= 0.3)\n",
    "\n",
    "    sns.lineplot(x=[item[0] for item in Results], y=[item[1] for item in Results], \n",
    "                 color=\"darkred\", ax=axes[0])\n",
    "    sns.lineplot(x=[item[0] for item in Results], y=[item[2] for item in Results], \n",
    "                 color=\"darkgreen\", ax=axes[0])\n",
    "    axes[0].set_title('Training and Validation Loss\\n as a function of Epoch', \n",
    "                      fontsize=13, color=\"darkred\")\n",
    "    axes[0].set_ylabel('Loss', fontsize=12, color=\"darkgreen\")\n",
    "    axes[0].set_xlabel('Epoch', fontsize=12, color=\"darkgreen\")\n",
    "    axes[0].legend([\"Train\", \"Validation\"], loc='upper right', fontsize=12)\n",
    "\n",
    "    sns.lineplot(x=[item[0] for item in Results], y=[item[3] for item in Results], \n",
    "                 color=\"darkred\", ax=axes[1])\n",
    "    axes[1].set_title('Validation Acurancy\\n as a function of Epoch', \n",
    "                      fontsize=13, color=\"darkred\")\n",
    "    axes[1].set_ylabel('Acurancy Percentage', fontsize=12, color=\"darkgreen\")\n",
    "    axes[1].set_xlabel('Epoch', fontsize=12, color=\"darkgreen\")\n",
    "    axes[1].set_ylim(0.0, 101.0)\n",
    "else:\n",
    "    fig, axes= plt.subplots(figsize=(6,4))\n",
    "    plt.subplots_adjust(wspace= 0.3)\n",
    "\n",
    "    sns.lineplot(x=[item[0] for item in Results], y=[item[1] for item in Results], \n",
    "                 color=\"darkred\", ax=axes)\n",
    "    axes.set_title('Training Loss\\n as a function of Epoch', \n",
    "                   fontsize=13, color=\"darkred\")\n",
    "    axes.set_ylabel('Loss', fontsize=12, color=\"darkgreen\")\n",
    "    axes.set_xlabel('Epoch', fontsize=12, color=\"darkgreen\")\n",
    "    axes.legend([\"Train\"], loc='upper right', fontsize=12)\n",
    "plt.show()"
   ]
  },
  {
   "cell_type": "markdown",
   "id": "230b07e2",
   "metadata": {},
   "source": [
    "<div class=\"alert alert-info\">\n",
    "Usage of <b>Predict</b> attribute function, with input type data.\n",
    "</div>"
   ]
  },
  {
   "cell_type": "code",
   "execution_count": 23,
   "id": "50c9b746",
   "metadata": {},
   "outputs": [
    {
     "name": "stdout",
     "output_type": "stream",
     "text": [
      "XXX_Predict_Test = [5.7 3.8 1.7 0.3]\n",
      "Type             = <class 'numpy.ndarray'>\n",
      "XXX_Predict_Test = [[[5.7, 3.8, 1.7, 0.3]]]\n",
      "Prediction result= [array([[0.91580353, 0.14647219, 0.01963028]])]\n",
      "Prediction class = 0\n",
      "YYY_Predict_Test = 0\n"
     ]
    }
   ],
   "source": [
    "print(\"XXX_Predict_Test =\", XXX_Predict_Test)\n",
    "print(\"Type             =\", type(XXX_Predict_Test))\n",
    "print(\"XXX_Predict_Test =\", [[XXX_Predict_Test.tolist()]])\n",
    "results= net.Predict([[XXX_Predict_Test.tolist()]])\n",
    "print(\"Prediction result=\", results)\n",
    "print(\"Prediction class =\", np.argmax(results))\n",
    "print(\"YYY_Predict_Test =\", YYY_Predict_Test)"
   ]
  },
  {
   "cell_type": "markdown",
   "id": "11f6b046",
   "metadata": {},
   "source": [
    "<div class=\"alert alert-info\">\n",
    "Usage of <b>Predict</b> attribute function, with input variables.\n",
    "</div>"
   ]
  },
  {
   "cell_type": "code",
   "execution_count": 24,
   "id": "5d86d941",
   "metadata": {},
   "outputs": [
    {
     "name": "stdout",
     "output_type": "stream",
     "text": [
      "Input_Data= [5.  2.3 3.3 1. ]\n",
      "\n",
      "Input_Data = [[[5.0, 2.3, 3.3, 1.0]]]\n",
      "\n",
      "Prediction class = 1\n",
      "\n",
      "Prediction class = 1    vs   True class = 1\n"
     ]
    }
   ],
   "source": [
    "Input_1= 5.0\n",
    "Input_2= 2.3\n",
    "Input_3= 3.3\n",
    "Input_4= 1.0\n",
    "Output = 1\n",
    "\n",
    "# 1)\n",
    "Input_Data= np.array((Input_1, Input_2, Input_3, Input_4))\n",
    "print(\"Input_Data=\", Input_Data)\n",
    "\n",
    "# 2)\n",
    "print(\"\\nInput_Data =\", [[Input_Data.tolist()]])\n",
    "\n",
    "# 3)\n",
    "ResultsOfPrediction= net.Predict([[Input_Data.tolist()]])\n",
    "print(\"\\nPrediction class =\", np.argmax(ResultsOfPrediction))\n",
    "\n",
    "# 4)\n",
    "print(\"\\nPrediction class =\", np.argmax(ResultsOfPrediction), \"   vs   True class =\", Output)"
   ]
  },
  {
   "cell_type": "markdown",
   "id": "cd691a0d",
   "metadata": {},
   "source": [
    "<div class=\"alert alert-info\">\n",
    "Usage of <b>Save</b> attribute function, to save model in a file to local hard disk.\n",
    "</div>"
   ]
  },
  {
   "cell_type": "code",
   "execution_count": 25,
   "id": "1d994e7c",
   "metadata": {},
   "outputs": [],
   "source": [
    "net.Save(\"NeuralNetworkData.txt\", Silent_Mode=True)"
   ]
  },
  {
   "cell_type": "markdown",
   "id": "3f670d4f",
   "metadata": {},
   "source": [
    "<div class=\"alert alert-info\">\n",
    "Usage of <b>LoadNeuralNetworkData</b> attribute function, to load a model from saved file.\n",
    "</div>"
   ]
  },
  {
   "cell_type": "code",
   "execution_count": 26,
   "id": "c83bd1c3",
   "metadata": {},
   "outputs": [],
   "source": [
    "net2= LoadNeuralNetworkData(\"NeuralNetworkData.txt\", Silent_Mode=True)"
   ]
  },
  {
   "cell_type": "markdown",
   "id": "3ae1e915",
   "metadata": {},
   "source": [
    "<div class=\"alert alert-info\">\n",
    "Usage of <b>Fit</b> attribute function, from an import model from saved file.\n",
    "</div>"
   ]
  },
  {
   "cell_type": "code",
   "execution_count": 27,
   "id": "4ef7ed28",
   "metadata": {},
   "outputs": [
    {
     "name": "stdout",
     "output_type": "stream",
     "text": [
      "epoch   1/ 20   Train Error=0.066089   Val Error= 0.026393   Val Acurancy= 100.000000\n",
      "epoch   2/ 20   Train Error=0.058339   Val Error= 0.024679   Val Acurancy= 100.000000\n",
      "epoch   3/ 20   Train Error=0.057282   Val Error= 0.023417   Val Acurancy= 100.000000\n",
      "epoch   4/ 20   Train Error=0.055896   Val Error= 0.022712   Val Acurancy= 100.000000\n",
      "epoch   5/ 20   Train Error=0.057720   Val Error= 0.022518   Val Acurancy= 100.000000\n",
      "epoch   6/ 20   Train Error=0.060092   Val Error= 0.022505   Val Acurancy= 100.000000\n",
      "epoch   7/ 20   Train Error=0.044412   Val Error= 0.019224   Val Acurancy= 100.000000\n",
      "epoch   8/ 20   Train Error=0.053310   Val Error= 0.018433   Val Acurancy= 100.000000\n",
      "epoch   9/ 20   Train Error=0.050140   Val Error= 0.017731   Val Acurancy= 100.000000\n",
      "epoch  10/ 20   Train Error=0.052569   Val Error= 0.019236   Val Acurancy= 96.666667\n",
      "epoch  11/ 20   Train Error=0.050633   Val Error= 0.016985   Val Acurancy= 100.000000\n",
      "epoch  12/ 20   Train Error=0.051175   Val Error= 0.016144   Val Acurancy= 100.000000\n",
      "epoch  13/ 20   Train Error=0.048344   Val Error= 0.016610   Val Acurancy= 100.000000\n",
      "epoch  14/ 20   Train Error=0.043009   Val Error= 0.014550   Val Acurancy= 100.000000\n",
      "epoch  15/ 20   Train Error=0.046048   Val Error= 0.013523   Val Acurancy= 100.000000\n",
      "epoch  16/ 20   Train Error=0.040522   Val Error= 0.012506   Val Acurancy= 100.000000\n",
      "epoch  17/ 20   Train Error=0.048891   Val Error= 0.019050   Val Acurancy= 96.666667\n",
      "epoch  18/ 20   Train Error=0.049418   Val Error= 0.019676   Val Acurancy= 96.666667\n",
      "epoch  19/ 20   Train Error=0.036965   Val Error= 0.019534   Val Acurancy= 96.666667\n",
      "epoch  20/ 20   Train Error=0.038797   Val Error= 0.021256   Val Acurancy= 96.666667\n"
     ]
    }
   ],
   "source": [
    "Results= net2.Fit(XXX_train, YYY_train, \n",
    "                  Epochs=20, Learning_Rate=0.1, \n",
    "                  Validation_Mode=True, \n",
    "                  x_validation=XXX_validation, y_validation=YYY_validation,\n",
    "                  Silent_Mode=False)"
   ]
  },
  {
   "cell_type": "markdown",
   "id": "d931ff46",
   "metadata": {},
   "source": [
    "<div class=\"alert alert-info\">\n",
    "Usage of <b>PrintLayers</b> attribute function, to prints model properties data.\n",
    "</div>"
   ]
  },
  {
   "cell_type": "code",
   "execution_count": 28,
   "id": "cbe7571b",
   "metadata": {},
   "outputs": [
    {
     "name": "stdout",
     "output_type": "stream",
     "text": [
      "\n",
      "==== Fully Connected Layer\n",
      "[[-0.03291036  0.45945874  0.11533636  0.12268266 -1.14192432]]\n",
      "[[-0.87997125  0.07200762  0.02923332  0.36404599 -1.597934  ]\n",
      " [-1.10565311 -0.46460537 -0.92565745  0.24878926 -1.68820466]\n",
      " [ 1.50909677  0.4395621   0.9128813   0.09059203  2.57115837]\n",
      " [ 1.27867835 -0.14351345  0.34801545 -0.02492597  2.80928177]]\n",
      "==== Activation Layer\n",
      "Tanh\n",
      "TanhPrime\n",
      "\n",
      "==== Fully Connected Layer\n",
      "[[-0.01189907  0.21996158 -0.54011672  0.10544141 -0.16418057]]\n",
      "[[-0.80905207  0.94756621  0.38893114 -0.67853437 -0.31161421]\n",
      " [-0.35472556  0.61247773 -0.50806768  0.00970316 -0.0095655 ]\n",
      " [-0.35545642  1.75879545 -0.10799849 -0.17898426  0.702791  ]\n",
      " [ 0.32857934  0.35471931 -0.77171695  0.6356598  -0.23157843]\n",
      " [-0.65023136  0.06830062 -0.14694982 -1.30275985 -0.55112471]]\n",
      "==== Activation Layer\n",
      "Tanh\n",
      "TanhPrime\n",
      "\n",
      "==== Fully Connected Layer\n",
      "[[-0.30886184 -1.11103833 -0.44210562]]\n",
      "[[ 1.50111113  0.65823071 -0.92605442]\n",
      " [-2.3092658   2.31914688  0.63801503]\n",
      " [ 0.70644166  1.25169626  0.42041521]\n",
      " [ 0.16572254  1.28949111 -1.44709799]\n",
      " [-0.86991519  0.69063287 -0.65828388]]\n",
      "==== Activation Layer\n",
      "Sigmoid\n",
      "SigmoidPrime\n",
      "\n",
      "==== Loss Function\n",
      "Mse\n",
      "MsePrime\n"
     ]
    }
   ],
   "source": [
    "net2.PrintLayers()"
   ]
  },
  {
   "cell_type": "code",
   "execution_count": null,
   "id": "a9137f01",
   "metadata": {},
   "outputs": [],
   "source": []
  }
 ],
 "metadata": {
  "kernelspec": {
   "display_name": "Python 3",
   "language": "python",
   "name": "python3"
  },
  "language_info": {
   "codemirror_mode": {
    "name": "ipython",
    "version": 3
   },
   "file_extension": ".py",
   "mimetype": "text/x-python",
   "name": "python",
   "nbconvert_exporter": "python",
   "pygments_lexer": "ipython3",
   "version": "3.8.12"
  }
 },
 "nbformat": 4,
 "nbformat_minor": 5
}
