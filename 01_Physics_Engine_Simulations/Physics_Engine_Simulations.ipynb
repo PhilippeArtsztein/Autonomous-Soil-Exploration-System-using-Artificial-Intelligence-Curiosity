{
 "cells": [
  {
   "cell_type": "markdown",
   "id": "4089a01c",
   "metadata": {},
   "source": [
    "<table style=\"width:98%; border: 1px solid DarkGoldenRod; border-collapse: collapse;\">\n",
    "  <tr style=\"background-color:#FFFFFF\">\n",
    "    <td width =\"59%\">\n",
    "        <h1 style=\"font-size:3vw;color:#A00000;text-align:center\">\n",
    "        Autonomous Soil Exploration System using Artificial Curiosity\n",
    "        </h1>\n",
    "        <h1 style=\"font-size:2vw;color:#A00000;text-align:center\">\n",
    "        <font style=\"font-family:Snell Roundhand, cursive;color:darkgreen\">\n",
    "            2D Physics Engine Simulations\n",
    "        </font>\n",
    "        </h1>\n",
    "        <h1 style=\"font-size:1.2vw;color:#A00000;text-align:center\">\n",
    "        Prof. Goren Gordon, Philippe Artsztein\n",
    "        </h1>\n",
    "    </td>\n",
    "    <td width =\"39%\"><img src=\"./MyLogo.jpg\" width=\"80%\" height=\"80%\" style=\"float:left;vertical-align:bottom;margin: 20px 20px\"></td>\n",
    "  </tr>\n",
    "</table>"
   ]
  },
  {
   "cell_type": "code",
   "execution_count": 1,
   "id": "3c610eb8",
   "metadata": {},
   "outputs": [
    {
     "name": "stdout",
     "output_type": "stream",
     "text": [
      "\u001b[35mᐅ General Functions Version = \u001b[0m 3.0\n",
      "\u001b[35mᐅ Written Python Version =  3.3.12 \u001b[0m\n",
      "\u001b[35mᐅ Current Python Version = \u001b[0m 3.3.12\n"
     ]
    }
   ],
   "source": [
    "import General_Functions_v3 as gf\n",
    "gf_Ver= gf.var()\n",
    "import sys\n",
    "Python_Ver= (str(sys.version_info.major)+\".\"\n",
    "            +str(sys.version_info.major)+\".\"\n",
    "            +str(sys.version_info.micro))\n",
    "gf.Print_1H('Written Python Version =  3.3.12')\n",
    "gf.Print_1H_1V('Current Python Version =', Python_Ver)\n",
    "\n",
    "import numpy as np\n",
    "import math\n",
    "import random\n",
    "import matplotlib.pyplot as plt\n",
    "from IPython.display import clear_output\n"
   ]
  },
  {
   "cell_type": "markdown",
   "id": "39ce49da",
   "metadata": {},
   "source": [
    "<div class=\"alert alert-danger\">\n",
    "Here we present several 2D physics engine simulations,<br>\n",
    "of groundwater pollution tracking, base on differen conceptual models.<br>\n",
    "For more theoretical knowledge, please look at:<br> \n",
    "&emsp;2D analytical pollution diffusion synthetic field generator,<br>\n",
    "&emsp;<a href=\"http://rpdata.caltech.edu/courses/aph162/2007/Protocols/diffusion.pdf\">Diffusion of Solid Particles Confined in a Viscous Fluid</a><br>\n",
    "and<br>\n",
    "&emsp;2D finite difference diffusion synthetic field generator,<br>\n",
    "&emsp;<a href=\"http://bb\">bbb</a><br>\n",
    "and<br>\n",
    "&emsp;2D analytical advection synthetic field generator,<br>\n",
    "&emsp;<a href=\"http://cc\">ccc</a><br>\n",
    "and<br>\n",
    "&emsp;2D finite difference advectionsynthetic field generator,<br>\n",
    "&emsp;<a href=\"http://dd\">ddd</a><br>\n",
    "and<br>\n",
    "&emsp;2D direct diffusion-advection synthetic field generator,<br>\n",
    "&emsp;<a href=\"http://ee\">eee</a><br>\n",
    "and<br>\n",
    "&emsp;2D finite difference diffusion-advection synthetic field generator,<br>\n",
    "&emsp;<a href=\"http://ff\">fff</a><br>\n",
    "and<br>\n",
    "<br>\n",
    "<u>The physics engine base on these conceptual models:</u><br>\n",
    "&emsp;2D analytical pollution diffusion synthetic field generator<br>\n",
    "&emsp;2D finite difference diffusion synthetic field generator<br>\n",
    "&emsp;2D analytical advection synthetic field generator<br>\n",
    "&emsp;2D finite difference advectionsynthetic field generator<br>\n",
    "&emsp;2D direct diffusion-advection synthetic field generator<br>\n",
    "&emsp;2D finite difference diffusion-advection synthetic field generator<br>\n",
    "</div>"
   ]
  },
  {
   "cell_type": "markdown",
   "id": "6756946a",
   "metadata": {},
   "source": [
    "<div class=\"pagebreak\"> </div>"
   ]
  },
  {
   "cell_type": "markdown",
   "id": "6b012d80",
   "metadata": {},
   "source": [
    "<div class=\"alert alert-success\">\n",
    "<b><u>FieldParameters</u></b><br>\n",
    "is a parent class contains data structure of the field parameters.<br>\n",
    "<br><b><u>Constructor Input</u></b><br>\n",
    "&emsp;<u><i>XfieldMin, XfieldMax</i></u><br>\n",
    "&emsp;&emsp;Minimum x value in field in x direction and Maximum x value in field in x direction.<br>\n",
    "&emsp;<u><i>YfieldMin, YfieldMax</i></u><br>\n",
    "&emsp;&emsp;Minimum y value in field in y direction and Maximum y value in field in y direction.<br>\n",
    "&emsp;<u><i>Xsource, Ysource</i></u><br>\n",
    "&emsp;&emsp;x location of the pollution source and y location of the pollution source.<br>\n",
    "&emsp;<u><i>DiffusionCoefficient</i></u><br>\n",
    "&emsp;&emsp;The amount of a pollution substance that diffuses across a unit area in 1s under the influence<br>\n",
    "&emsp;&emsp;of a gradient of one unit<br>\n",
    "&emsp;<u><i>Pollution</i></u><br>\n",
    "&emsp;&emsp;The amount of a pollution<br>\n",
    "&emsp;<u><i>DeltaTime</i></u><br>\n",
    "&emsp;&emsp;Defines the interval time between sequenced calculated iteration.<br>\n",
    "<br><b><u>Methods</u></b><br>\n",
    "&emsp;<u><i>ChangeFieldArguments(...)</i></u><br>\n",
    "&emsp;&emsp;Change one or more field parameters. The method receive a dictionary of arguments.<br>\n",
    "&emsp;&emsp;Example:<br>\n",
    "&emsp;&emsp;ChangeFieldArguments(Xsource=300.0,Pollution=900.0)<br>\n",
    "&emsp;&emsp;will only change Xsource and Pollution value.<br>\n",
    "&emsp;<u><i>ChangeDeltaTime(...)</i></u><br>\n",
    "&emsp;&emsp;Change DeltaTime value.<br>\n",
    "&emsp;<u><i>PrintInputData(...)</i></u><br>\n",
    "&emsp;&emsp;Print all input parameters values.<br>\n",
    "&emsp;<u><i>ChangeDeltaTime(...)</i></u><br>\n",
    "&emsp;&emsp;Print main parameters values.\n",
    "</div>"
   ]
  },
  {
   "cell_type": "code",
   "execution_count": 2,
   "id": "da4aaddc",
   "metadata": {},
   "outputs": [],
   "source": [
    "class FieldParameters:\n",
    "\n",
    "    def __init__(self, XfieldMin, XfieldMax, YfieldMin, YfieldMax, \n",
    "            Xsource, Ysource, DiffusionCoefficient, Pollution, DeltaTime):\n",
    "        # Create storage allocation for Variable and initial its values \n",
    "        self.XfieldMin           = XfieldMin\n",
    "        self.XfieldMax           = XfieldMax \n",
    "        self.YfieldMin           = YfieldMin\n",
    "        self.YfieldMax           = YfieldMax \n",
    "        self.Xsource             = Xsource \n",
    "        self.Ysource             = Ysource\n",
    "        self.DiffusionCoefficient= DiffusionCoefficient \n",
    "        self.Pollution           = Pollution\n",
    "        self.DeltaTime           = DeltaTime\n",
    "        self.MergeDiffusionTime  = DiffusionCoefficient*DeltaTime\n",
    "\n",
    "    def ChangeFieldArguments(self, **Arguments):\n",
    "        for iii in Arguments:\n",
    "            if(iii=='XfieldMin'):\n",
    "                self.XfieldMin= Arguments[iii]  \n",
    "            if(iii=='XfieldMax'):\n",
    "                self.XfieldMax= Arguments[iii] \n",
    "            if(iii=='YfieldMin'):\n",
    "                self.YfieldMin= Arguments[iii]\n",
    "            if(iii=='YfieldMax'):\n",
    "                self.YfieldMax= Arguments[iii]\n",
    "            if(iii=='Xsource'):\n",
    "                self.Xsource= Arguments[iii]\n",
    "            if(iii=='Ysource'):\n",
    "                self.Ysource= Arguments[iii]\n",
    "            if(iii=='DiffusionCoefficient'):\n",
    "                self.DiffusionCoefficient= Arguments[iii]\n",
    "            if(iii=='Pollution'):\n",
    "                self.Pollution= Arguments[iii]\n",
    "            if(iii=='DeltaTime'):\n",
    "                self.DeltaTime= Arguments[iii]\n",
    "        self.MergeDiffusionTime= self.DiffusionCoefficient*self.DeltaTime\n",
    "\n",
    "    def ChangeDeltaTime(self, DeltaTime):\n",
    "        self.DeltaTime= DeltaTime\n",
    "        self.MergeDiffusionTime= self.DiffusionCoefficient*self.DeltaTime\n",
    "\n",
    "    def PrintInputData(self):\n",
    "        gf.Print_2H_2V_1P('XfieldMin            =', self.XfieldMin,\n",
    "                          '   XfieldMax=', self.XfieldMax)\n",
    "        gf.Print_2H_2V_1P('YfieldMin            =', \n",
    "                                          self.YfieldMin,\n",
    "                                          '   YfieldMax=', self.YfieldMax)\n",
    "        gf.Print_2H_2V_1P('Xsource              =', self.Xsource,\n",
    "                          '   Ysource  =', self.Ysource)\n",
    "        gf.Print_2H_2V_1P('Diffusion Coefficient=', self.DiffusionCoefficient,\n",
    "                          '   Pollution=', self.Pollution)\n",
    "        gf.Print_1H_1V_1P('Pollution Delta Time =', self.DeltaTime)\n",
    "        gf.Print_1H_1V_1P('Merge Diffusion Time =', self.MergeDiffusionTime)\n",
    "        \n",
    "    # Used\n",
    "    def PrintData(self):\n",
    "        gf.Print_2H_2V_1P('Xsource              =', self.Xsource,\n",
    "                          '   Ysource  =', self.Ysource)\n",
    "        gf.Print_2H_2V_1P('Diffusion Coefficient=', self.DiffusionCoefficient,\n",
    "                          '   Pollution=', self.Pollution)\n",
    "        gf.Print_1H_1V_1P('Pollution Delta Time =', self.DeltaTime)\n",
    "        gf.Print_1H_1V_1P('Merge Diffusion Time =', self.MergeDiffusionTime)\n"
   ]
  },
  {
   "cell_type": "markdown",
   "id": "7d47da51",
   "metadata": {},
   "source": [
    "<div class=\"alert alert-success\">\n",
    "<b><u>SyntheticFieldGenerator</u></b><br>\n",
    "Is a extended child class inherit all the methods and properties from its parent FieldParameters<br>\n",
    "<br><b><u>Constructor Input</u></b><br>\n",
    "&emsp;<u><i>XfieldMin, XfieldMax</i></u><br>\n",
    "&emsp;&emsp;Minimum x value in field in x direction and Maximum x value in field in x direction.<br>\n",
    "&emsp;<u><i>YfieldMin, YfieldMax</i></u><br>\n",
    "&emsp;&emsp;Minimum y value in field in y direction and Maximum y value in field in y direction.<br>\n",
    "&emsp;<u><i>Xsource, Ysource</i></u><br>\n",
    "&emsp;&emsp;x location of the pollution source and y location of the pollution source.<br>\n",
    "&emsp;<u><i>DiffusionCoefficient</i></u><br>\n",
    "&emsp;&emsp;The amount of a pollution substance that diffuses across a one unit area in one onit time<br>\n",
    "&emsp;&emsp;under the influence of a gradient of one unit<br>\n",
    "&emsp;<u><i>Pollution</i></u><br>\n",
    "&emsp;&emsp;The amount of a pollution<br>\n",
    "&emsp;<u><i>DeltaTime</i></u><br>\n",
    "&emsp;&emsp;Set the interval between appearance of the pollution and actual measurements.<br>\n",
    "<br><b><u>Methods</u></b><br>\n",
    "&emsp;<u><i>GetXsource()</i></u><br>\n",
    "&emsp;&emsp;Returns the source x location<br> \n",
    "&emsp;<u><i>GetYsource()</i></u><br>\n",
    "&emsp;&emsp;Returns the source x location<br> \n",
    "&emsp;<u><i>CalculateSyntheticField(Xrover, Yrover, Model)</i></u><br>\n",
    "&emsp;&emsp;If Model=1<br> \n",
    "&emsp;&emsp;&emsp;Calculate 2D analytical pollution diffusion synthetic field value at Xrover, Yrover location.<br>\n",
    "&emsp;<u><i>PredictionBasedOnPreviusOptimization(Xrover, Yrover, Xsource, Ysource, MergeDiffusionTime, Pollution, Model)</i></u><br>\n",
    "&emsp;&emsp;If Model=1<br> \n",
    "&emsp;&emsp;&emsp;Calculate 2D analytical pollution diffusion synthetic field value at Xrover, Yrover location.<br>\n",
    "&emsp;&emsp;&emsp;pollution source location, diffusion coefficient multiply by time and amount of a pollution\n",
    "</div>"
   ]
  },
  {
   "cell_type": "code",
   "execution_count": 3,
   "id": "9ffccb88",
   "metadata": {},
   "outputs": [],
   "source": [
    "class SyntheticFieldGenerator(FieldParameters):\n",
    "    # Used\n",
    "    def __init__(self, XfieldMin, XfieldMax, YfieldMin, YfieldMax, \n",
    "                 Xsource, Ysource, DiffusionCoefficient, \n",
    "                 Pollution, DeltaTime):\n",
    "        # Set data to parent FieldParameters data structure\n",
    "        super().__init__(XfieldMin, XfieldMax, YfieldMin, YfieldMax, \n",
    "                         Xsource, Ysource, DiffusionCoefficient, \n",
    "                         Pollution, DeltaTime)        \n",
    "\n",
    "    def GetXsource(self):\n",
    "        return(self.Xsource)\n",
    "        \n",
    "    def GetYsource(self):\n",
    "        return(self.Ysource)\n",
    "\n",
    "    # Used\n",
    "    def CalculateSyntheticField(self, Xrover, Yrover, Model):\n",
    "        if(Model==1):\n",
    "            SourceDistantFromRover= math.sqrt(math.pow(self.Xsource-Xrover,2)+\n",
    "                                    math.pow(self.Ysource-Yrover,2))\n",
    "            SourceDistantFromRoverPower2= math.pow(SourceDistantFromRover,2)\n",
    "            Numerator  = math.exp(-SourceDistantFromRoverPower2/\n",
    "                                  (4.0*self.MergeDiffusionTime))\n",
    "            Denominator= 4.0*math.pi*self.MergeDiffusionTime\n",
    "            Pollution  = self.Pollution*Numerator/Denominator\n",
    "            return Pollution\n",
    "    \n",
    "    # Used\n",
    "    def PredictionBasedOnPreviusOptimization(self, Xrover, Yrover, \n",
    "                                             Xsource, Ysource, \n",
    "                                             MergeDiffusionTime, \n",
    "                                             Pollution,\n",
    "                                             Model):\n",
    "        if(Model==1):\n",
    "            SourceDistantFromRover= math.sqrt(math.pow(Xsource-Xrover,2)+\n",
    "                                              math.pow(Ysource-Yrover,2))\n",
    "            SourceDistantFromRoverPower2= math.pow(SourceDistantFromRover,2)\n",
    "            Numerator  = math.exp(-SourceDistantFromRoverPower2/\n",
    "                                  (4.0*MergeDiffusionTime))\n",
    "            Denominator= 4.0*math.pi*MergeDiffusionTime\n",
    "            Pollution  = Pollution*Numerator/Denominator\n",
    "            return Pollution\n"
   ]
  },
  {
   "cell_type": "markdown",
   "id": "e265efe5",
   "metadata": {},
   "source": [
    "<div class=\"alert alert-success\">\n",
    "<b><u>ObjectiveFunction</u></b><br>\n",
    "Is the optimization objective function, the function we calculates its minimum with multiple variables.<br>\n",
    "<br><b><u>Input</u></b><br>\n",
    "&emsp;<u><i>Estimate</i></u><br>\n",
    "&emsp;&emsp;Is the array of variable we want to optimize.<br>\n",
    "&emsp;&emsp;Estimate[0]&emsp; &emsp; Xsource Location<br>\n",
    "&emsp;&emsp;Estimate[1]&emsp; &emsp; Ysource Location<br>\n",
    "&emsp;&emsp;Estimate[2]&emsp; &emsp; Merge of Diffusion Coefficient and Time (D*t).<br>\n",
    "&emsp;&emsp;Estimate[3]&emsp; &emsp; Initial Amount of Pollution.<br>\n",
    "&emsp;<u><i>TotalMeasurements</i></u><br>\n",
    "&emsp;&emsp;Total Rover sampling measurements.<br>\n",
    "&emsp;<u><i>XXRover, YYRover</i></u><br>\n",
    "&emsp;&emsp;Are two arrays of x and y positions of size TotalMeasurements,<br>\n",
    "&emsp;&emsp;where sample measurements were taken.<br>\n",
    "&emsp;<u><i>SyntheticClass</i></u><br>\n",
    "&emsp;&emsp;Is the name of synthetic field generator class<br>\n",
    "&emsp;<u><i>Model</i></u><br>\n",
    "&emsp;&emsp;If Model=1<br> \n",
    "&emsp;&emsp;&emsp;Calculate 2D analytical pollution diffusion synthetic field value.<br> \n",
    "<br><b><u>Output</u></b><br>\n",
    "&emsp;The objective function returns the normalized value of the difference between,<br> \n",
    "&emsp;the predicted and the real value of the synthetic polluted field.<br>\n",
    "</div>"
   ]
  },
  {
   "cell_type": "code",
   "execution_count": 4,
   "id": "b60e6e49",
   "metadata": {},
   "outputs": [],
   "source": [
    "def ObjectiveFunction(Estimate, TotalMeasurements, XXRover, YYRover, SyntheticClass, Model):\n",
    "    ErrorEstimationSum= 0.0\n",
    "    for iii in range(TotalMeasurements):\n",
    "\n",
    "        # This is what the rover sampled at Xrover and Yrover location\n",
    "        RealPollution               = SyntheticClass.CalculateSyntheticField(\n",
    "                                            XXRover[iii], YYRover[iii], Model)\n",
    "\n",
    "        # This is what we estimate to perform Nelder-Mead Optimization Algorithm\n",
    "        SourceDistantFromRover      = (math.sqrt(math.pow(Estimate[0]-XXRover[iii],2)+\n",
    "                                                math.pow(Estimate[1]-YYRover[iii],2)))\n",
    "        SourceDistantFromRoverPower2= math.pow(SourceDistantFromRover,2)\n",
    "        Numerator                   = math.exp(-SourceDistantFromRoverPower2/\n",
    "                                               (4.0*Estimate[2]))\n",
    "        Denominator                 = 4.0*math.pi*Estimate[2]\n",
    "        EstimatePollution           = Estimate[3]*Numerator/Denominator\n",
    "    \n",
    "        ErrorEstimationSum          = (math.sqrt(\n",
    "                                        math.pow(EstimatePollution-RealPollution,2))+\n",
    "                                        ErrorEstimationSum)\n",
    "\n",
    "    return (ErrorEstimationSum/TotalMeasurements)"
   ]
  },
  {
   "cell_type": "markdown",
   "id": "06b3694f",
   "metadata": {},
   "source": [
    "<div class=\"alert alert-danger\">\n",
    "<b><u>Model Number 1, The physics engine base on conceptual model define as:</u></b><br>\n",
    "&emsp;2D syntetic pollution distrebution values from 2D analytical pollution diffusion.<br>\n",
    "</div>"
   ]
  },
  {
   "cell_type": "markdown",
   "id": "411235b0",
   "metadata": {},
   "source": [
    "<div class=\"alert alert-success\">\n",
    "<b><u>InitialRoverParameters</u></b><br>\n",
    "Is a function, the function Initial parameters of the rover.<br><br>\n",
    "<b><u>Input</u></b><br>\n",
    "&emsp;<u><i>Minimum_Sensor_Sensitivity</i></u><br>\n",
    "&emsp;&emsp;Is the minimum sensor sensitivity to mark the pollution zone territory.<br>\n",
    "&emsp;<u><i>Print_Enable</i></u><br>\n",
    "&emsp;&emsp;True to enable print and False to disable print.<br>\n",
    "<br><b><u>Output</u></b><br>\n",
    "&emsp;Returns the minimum sensor sensitivity value.<br> \n",
    "</div>"
   ]
  },
  {
   "cell_type": "code",
   "execution_count": 5,
   "id": "d6f31d31",
   "metadata": {},
   "outputs": [],
   "source": [
    "def InitialRoverParameters(Minimum_Sensor_Sensitivity, Print_Enable ):\n",
    "    Minimum_Sensor_Sensitivity  = Minimum_Sensor_Sensitivity\n",
    "    if(Print_Enable==True):\n",
    "        gf.Print_1H_1V('Minimum_Sensor_Sensitivity=', Minimum_Sensor_Sensitivity)\n",
    "    return(Minimum_Sensor_Sensitivity)"
   ]
  },
  {
   "cell_type": "code",
   "execution_count": 6,
   "id": "af24a128",
   "metadata": {},
   "outputs": [
    {
     "name": "stdout",
     "output_type": "stream",
     "text": [
      "\u001b[35mᐅ Minimum_Sensor_Sensitivity= \u001b[0m 0.01\n"
     ]
    }
   ],
   "source": [
    "Minimum_Sensor_Sensitivity= InitialRoverParameters(Minimum_Sensor_Sensitivity= 0.01, \n",
    "                                                   Print_Enable= True)"
   ]
  },
  {
   "cell_type": "markdown",
   "id": "29bc0756",
   "metadata": {},
   "source": [
    "<div class=\"alert alert-success\">\n",
    "<b><u>SetUpParametersForSyntheticFieldGenerator</u></b><br>\n",
    "Is a function that Initializes parameters of the polluted field.<br>\n",
    "function activates the Synthetic Field Generator.<br>\n",
    "This function assume the field boundaries are set as:<br>\n",
    "&emsp;XfieldMin:<br>\n",
    "&emsp;&emsp;Minimum x value in field in x direction is set to 0.0<br>\n",
    "&emsp;XfieldMax:<br>\n",
    "&emsp;&emsp;Maximum x value in field in x direction is set to 1000.0<br>\n",
    "&emsp;YfieldMin:<br>\n",
    "&emsp;&emsp;Minimum y value in field in y direction is set to 0.0<br>\n",
    "&emsp;YfieldMax:<br>\n",
    "&emsp;&emsp;Maximum y value in field in y direction is set to 1000.0<br>\n",
    "<br><b><u>Input</u></b><br>\n",
    "&emsp;<u><i>Print_Enable</i></u><br>\n",
    "&emsp;&emsp;If Print_Enable is set to <b>True</b> to enable print and <b>False</b> to disable print.<br>\n",
    "&emsp;<u><i>Plot_Enable</i></u><br>\n",
    "&emsp;&emsp;If Plot_Enable is set to <b>True</b><br>\n",
    "&emsp;&emsp;&emsp;The function will calculate the third max pollution marker and the two thirds max pollution<br>\n",
    "&emsp;&emsp;&emsp;marker and the maximum polution marker of the polluted field<br>\n",
    "&emsp;<u><i>Random_Enable</i></u><br>\n",
    "&emsp;&emsp;If Random_Enable is set to <b>True</b><br>\n",
    "&emsp;&emsp;&emsp;<u><i>Xsource</i></u>: x location of the pollution source, is set randomly between 50.0 to 950.0<br>\n",
    "&emsp;&emsp;&emsp;<u><i>Ysource</i></u>: y location of the pollution source, is set randomly between 50.0 to 950.0<br>\n",
    "&emsp;&emsp;&emsp;<u><i>DiffusionCoefficient</i></u>: The amount of a pollution substance that diffuses across<br> \n",
    "&emsp;&emsp;&emsp;one unit area in one onit time under the influence of a gradient of one unitis is set<br>\n",
    "&emsp;&emsp;&emsp;randomly between 1.0 to 3.0<br>\n",
    "&emsp;&emsp;&emsp;<u><i>Pollution</i></u>: The amount of a pollution is set randomly between 500.0 to 5000.0<br>\n",
    "&emsp;&emsp;&emsp;<u><i>DeltaTime</i></u>: the interval between appearance of the pollution<br>\n",
    "&emsp;&emsp;&emsp;and actual measurements, is set randomly between 500.0 to 5000.0<br>\n",
    "&emsp;&emsp;If Random_Enable is set to <b>False</b><br>\n",
    "&emsp;&emsp;&emsp;<u><i>Xsource</i></u>: x location of the pollution source, is set to 400.0<br>\n",
    "&emsp;&emsp;&emsp;<u><i>Ysource</i></u>: y location of the pollution source, is set to 500.0<br>\n",
    "&emsp;&emsp;&emsp;<u><i>DiffusionCoefficient</i></u>: The amount of a pollution substance that diffuses across<br> \n",
    "&emsp;&emsp;&emsp;one unit area in one onit time under the influence of a gradient of one unitis is set to 2.0<br>\n",
    "&emsp;&emsp;&emsp;<u><i>Pollution</i></u>: The amount of a pollution is set to 1000.0<br>\n",
    "&emsp;&emsp;&emsp;<u><i>DeltaTime</i></u>: the interval between appearance of the pollution<br>\n",
    "&emsp;&emsp;&emsp;and actual measurements is set to 800.0<br>\n",
    "<br><b><u>Output</u></b><br>\n",
    "&emsp;If <i>Plot_Enable</i> is set to <b>True</b><br>\n",
    "&emsp;&emsp;The function return the SyntheticField object and two markers:<br> \n",
    "&emsp;&emsp;Third of absulut maximun pollution, and Two-Third of absulut maximun pollution.<br>\n",
    "&emsp;If <i>Plot_Enable</i> is set to <b>False</b><br>\n",
    "&emsp;&emsp;The function return only SyntheticField object and two zeros<br> \n",
    "</div>"
   ]
  },
  {
   "cell_type": "code",
   "execution_count": 7,
   "id": "9a449603",
   "metadata": {},
   "outputs": [],
   "source": [
    "def SetUpParametersForSyntheticFieldGenerator(Print_Enable, Plot_Enable, Random_Enable):\n",
    "    # Fix field parameters\n",
    "    XfieldMin           =    0.0 \n",
    "    XfieldMax           = 1000.0 \n",
    "    YfieldMin           =    0.0 \n",
    "    YfieldMax           = 1000.0 \n",
    "    # Test field parameters\n",
    "    if(Random_Enable==False):\n",
    "        Xsource             =  400.0 \n",
    "        Ysource             =  500.0\n",
    "        DiffusionCoefficient=    2.0\n",
    "        Pollution           = 1000.0\n",
    "        DeltaTime           =  800.0\n",
    "    # Random field parameters\n",
    "    else:\n",
    "        Xsource             = round(random.uniform(50.0, 950.0),0)\n",
    "        Ysource             = round(random.uniform(50.0, 950.0),0)\n",
    "        DiffusionCoefficient= round(random.uniform(1.0, 3.0),1)\n",
    "        Pollution           = round(random.uniform(500.0, 5000.0),0)\n",
    "        DeltaTime           = round(random.uniform(500.0, 5000.0),0)\n",
    "    # Activate Synthetic Field Generator class\n",
    "    SyntheticField= SyntheticFieldGenerator(\n",
    "        XfieldMin=XfieldMin, XfieldMax=XfieldMax, \n",
    "        YfieldMin=YfieldMin, YfieldMax=YfieldMax, \n",
    "        Xsource=Xsource, Ysource=Ysource, \n",
    "        DiffusionCoefficient=DiffusionCoefficient, \n",
    "        Pollution=Pollution, DeltaTime=DeltaTime)\n",
    "        \n",
    "    if(Plot_Enable==True):\n",
    "        # Finding the max of pollution and pollution markers\n",
    "        PollutionMax= 0.0;\n",
    "        for iii in range(0,1001,1):\n",
    "            for jjj in range(0,1001,1):\n",
    "                kkk= SyntheticField.CalculateSyntheticField(iii,jjj,Model=1)\n",
    "                if PollutionMax<kkk:\n",
    "                    PollutionMax= kkk\n",
    "        PollutionThird    = ((PollutionMax-Minimum_Sensor_Sensitivity)/3.0+\n",
    "        Minimum_Sensor_Sensitivity)\n",
    "        PollutionTwoThirds= ((PollutionMax-Minimum_Sensor_Sensitivity)*2.0/3.0+\n",
    "        Minimum_Sensor_Sensitivity)\n",
    "\n",
    "        if(Print_Enable==True):\n",
    "            gf.Print_1H_1V('Minimum Sensor Sensitivity=', Minimum_Sensor_Sensitivity)\n",
    "            gf.Print_1H_1V('Pollution Third           =', PollutionThird)\n",
    "            gf.Print_1H_1V('Pollution Two Thirds      =', PollutionTwoThirds)\n",
    "            gf.Print_1H_1V('Pollution Max             =', PollutionMax)\n",
    "\n",
    "        return(SyntheticField, PollutionThird, PollutionTwoThirds)\n",
    "    else:\n",
    "        return(SyntheticField, 0.0, 0.0)"
   ]
  },
  {
   "cell_type": "code",
   "execution_count": 8,
   "id": "aefc239e",
   "metadata": {},
   "outputs": [
    {
     "name": "stdout",
     "output_type": "stream",
     "text": [
      "\u001b[35mᐅ Minimum Sensor Sensitivity= \u001b[0m 0.01\n",
      "\u001b[35mᐅ Pollution Third           = \u001b[0m 0.02324530657207243\n",
      "\u001b[35mᐅ Pollution Two Thirds      = \u001b[0m 0.03649061314414486\n",
      "\u001b[35mᐅ Pollution Max             = \u001b[0m 0.04973591971621729\n"
     ]
    }
   ],
   "source": [
    "(SyntheticField, PollutionThird, \n",
    " PollutionTwoThirds)= SetUpParametersForSyntheticFieldGenerator(True,True,False)"
   ]
  },
  {
   "cell_type": "code",
   "execution_count": 9,
   "id": "57f73e5c",
   "metadata": {},
   "outputs": [
    {
     "name": "stdout",
     "output_type": "stream",
     "text": [
      "\u001b[35mᐅ XfieldMin            = \u001b[0m      0.0 \u001b[35m    XfieldMax= \u001b[0m   1000.0\n",
      "\u001b[35mᐅ YfieldMin            = \u001b[0m      0.0 \u001b[35m    YfieldMax= \u001b[0m   1000.0\n",
      "\u001b[35mᐅ Xsource              = \u001b[0m    400.0 \u001b[35m    Ysource  = \u001b[0m    500.0\n",
      "\u001b[35mᐅ Diffusion Coefficient= \u001b[0m      2.0 \u001b[35m    Pollution= \u001b[0m   1000.0\n",
      "\u001b[35mᐅ Pollution Delta Time = \u001b[0m    800.0\n",
      "\u001b[35mᐅ Merge Diffusion Time = \u001b[0m   1600.0\n"
     ]
    }
   ],
   "source": [
    "SyntheticField.PrintInputData()"
   ]
  },
  {
   "cell_type": "markdown",
   "id": "d1878a8d",
   "metadata": {},
   "source": [
    "<div class=\"alert alert-success\">\n",
    "<b><u>PrepareDataForPlots</u></b><br>\n",
    "Is a function, the function prepares the data to draw the plot.<br><br>\n",
    "<b><u>Input</u></b><br>\n",
    "&emsp;<u><i>FieldTotalX</i></u><br>\n",
    "&emsp;&emsp;Is the total discrate nodes in x direction grid.<br>\n",
    "&emsp;<u><i>FieldTotalY</i></u><br>\n",
    "&emsp;&emsp;Is the total discrate nodes in x direction grid.<br>\n",
    "&emsp;<u><i>Print_Enable</i></u><br>\n",
    "&emsp;&emsp;True to enable printing and False to disable printing.<br>\n",
    "&emsp;<u><i>Model</i></u><br>\n",
    "&emsp;&emsp;If Model=1<br> \n",
    "&emsp;&emsp;&emsp;Calculate 2D analytical pollution diffusion synthetic field value.<br> \n",
    "<br><b><u>Output</u></b><br>\n",
    "&emsp;<u><i>FieldMatrix</i></u><br>\n",
    "&emsp;&emsp;A simplify matrix representing nodes with values greater than twice the<br>\n",
    "&emsp;&emsp;minimum sensor sensitivity value.<br> \n",
    "&emsp;<u><i>XxPollutionLo, YyPollutionLo</i></u><br>\n",
    "&emsp;&emsp;x and y vectors of location with polution values grater then minimum sensor<br>\n",
    "&emsp;&emsp;sensitivity and less then third of max absulut pollution value.<br>\n",
    "&emsp;<u><i>XxPollutionMe, YyPollutionMe</i></u><br>\n",
    "&emsp;&emsp;x and y vectors of location with polution values grater then third absulut max of pollution<br>\n",
    "&emsp;&emsp;value sensitivity and less then two third of absulut max pollution value<br>\n",
    "&emsp;<u><i>XxPollutionHi, YyPollutionHi</i></u><br>\n",
    "&emsp;&emsp;x and y vectors of location with polution values grater then two third<br>\n",
    "&emsp;&emsp;absulut max of pollution value sensitivity.\n",
    "</div>"
   ]
  },
  {
   "cell_type": "code",
   "execution_count": 10,
   "id": "c7d56c10",
   "metadata": {},
   "outputs": [],
   "source": [
    "def PrepareDataForPlots(FieldTotalX, FieldTotalY, Print_Enable, Model):\n",
    "    XxPollutionLo= []\n",
    "    YyPollutionLo= []\n",
    "    XxPollutionMe= []\n",
    "    YyPollutionMe= []\n",
    "    XxPollutionHi= []\n",
    "    YyPollutionHi= []\n",
    "    FieldMatrix = np.zeros([FieldTotalX, FieldTotalX])\n",
    "\n",
    "    for iii in range(0,FieldTotalX,1):\n",
    "        if(Print_Enable):\n",
    "            clear_output(wait=True)\n",
    "            gf.Print_1H_1V_1P('Column=', iii)\n",
    "        for jjj in range(0,FieldTotalY,1):\n",
    "            kkk= SyntheticField.CalculateSyntheticField(iii,jjj,Model)\n",
    "            if(Minimum_Sensor_Sensitivity<kkk and kkk<=PollutionThird):\n",
    "                FieldMatrix[jjj][iii]= kkk\n",
    "                XxPollutionLo.append(iii)\n",
    "                YyPollutionLo.append(jjj)\n",
    "            elif(PollutionThird<kkk and kkk<=PollutionTwoThirds):\n",
    "                FieldMatrix[jjj][iii]= kkk\n",
    "                XxPollutionMe.append(iii)\n",
    "                YyPollutionMe.append(jjj)\n",
    "            elif(PollutionTwoThirds<kkk):\n",
    "                FieldMatrix[jjj][iii]= kkk\n",
    "                XxPollutionHi.append(iii)\n",
    "                YyPollutionHi.append(jjj)\n",
    "\n",
    "    return(FieldMatrix, XxPollutionLo, YyPollutionLo, \n",
    "           XxPollutionMe, YyPollutionMe, \n",
    "           XxPollutionHi, YyPollutionHi)"
   ]
  },
  {
   "cell_type": "code",
   "execution_count": 11,
   "id": "64a554f0",
   "metadata": {},
   "outputs": [],
   "source": [
    "FieldTotalX= 1001\n",
    "FieldTotalY= 1001"
   ]
  },
  {
   "cell_type": "code",
   "execution_count": 12,
   "id": "779835da",
   "metadata": {},
   "outputs": [
    {
     "name": "stdout",
     "output_type": "stream",
     "text": [
      "\u001b[35mᐅ Column= \u001b[0m   1000.0\n"
     ]
    }
   ],
   "source": [
    "(FieldMatrix, XxPollutionLo, YyPollutionLo, XxPollutionMe, YyPollutionMe, \n",
    " XxPollutionHi, \n",
    " YyPollutionHi)= PrepareDataForPlots(FieldTotalX, FieldTotalY, True, Model=1)"
   ]
  },
  {
   "cell_type": "markdown",
   "id": "b0aeb951",
   "metadata": {},
   "source": [
    "<div class=\"alert alert-success\">\n",
    "<b><u>VisualisetionOfSyntheticField</u></b><br>\n",
    "Is a function, the function draw the synthetic field plot.<br>\n",
    "<br><b><u>Input</u></b><br>\n",
    "&emsp;<u><i>FieldMatrix</i></u><br>\n",
    "&emsp;&emsp;A simplify matrix representing nodes with values greater than twice the<br>\n",
    "&emsp;&emsp;minimum sensor sensitivity value.<br> \n",
    "&emsp;<u><i>XxPollutionLo, YyPollutionLo</i></u><br>\n",
    "&emsp;&emsp;x and y vectors of location with polution values grater then minimum sensor<br>\n",
    "&emsp;&emsp;sensitivity and less then third of max absulut pollution value.<br>\n",
    "&emsp;<u><i>XxPollutionMe, YyPollutionMe</i></u><br>\n",
    "&emsp;&emsp;x and y vectors of location with polution values grater then third absulut max of pollution<br>\n",
    "&emsp;&emsp;value sensitivity and less then two third of absulut max pollution value<br>\n",
    "&emsp;<u><i>XxPollutionHi, YyPollutionHi</i></u><br>\n",
    "&emsp;&emsp;x and y vectors of location with polution values grater then two third<br>\n",
    "&emsp;&emsp;absulut max of pollution value sensitivity.<br>\n",
    "<br><b><u>Output</u></b><br>\n",
    "&emsp;The function return a figure object.\n",
    "</div>"
   ]
  },
  {
   "cell_type": "code",
   "execution_count": 13,
   "id": "fd52deeb",
   "metadata": {},
   "outputs": [],
   "source": [
    "def VisualisetionOfSyntheticField(XxPollutionLo, YyPollutionLo, \n",
    "                                  XxPollutionMe, YyPollutionMe, \n",
    "                                  XxPollutionHi, YyPollutionHi):\n",
    "    px = 1/plt.rcParams['figure.dpi']\n",
    "    fig, ax= plt.subplots(figsize=(FieldTotalX*px, FieldTotalX*px))\n",
    "\n",
    "    # Pollution\n",
    "    ax.scatter(XxPollutionLo,YyPollutionLo,c='#ffe6cc')\n",
    "    ax.scatter(XxPollutionMe,YyPollutionMe,c='#ffb366')\n",
    "    ax.scatter(XxPollutionHi,YyPollutionHi,c='#b35900')\n",
    "    ax.scatter(SyntheticField.GetXsource(),SyntheticField.GetYsource(),c='#663300')\n",
    "\n",
    "    # Axis\n",
    "    ax.set_xlim(0, FieldTotalX-1)\n",
    "    ax.set_ylim(0, FieldTotalY-1)\n",
    "    ax.set_xlabel('X', loc='center', color=\"darkred\")\n",
    "    ax.set_ylabel('Y', loc='center')\n",
    "    ax.set_title('Synthetic Field - shades of caramel', \n",
    "        fontsize= 14, fontweight='bold', color='#7f0000')\n",
    "    ax.set_axisbelow(True)\n",
    "    ax.grid(True)\n",
    "\n",
    "    plt.show()\n",
    "    return(fig)"
   ]
  },
  {
   "cell_type": "code",
   "execution_count": 14,
   "id": "5bd35cd6",
   "metadata": {},
   "outputs": [
    {
     "data": {
      "image/png": "[encoded data removed]",
      "text/plain": [
       "<Figure size 1001x1001 with 1 Axes>"
      ]
     },
     "metadata": {
      "needs_background": "light"
     },
     "output_type": "display_data"
    }
   ],
   "source": [
    "fig= VisualisetionOfSyntheticField(XxPollutionLo, YyPollutionLo, \n",
    "                                   XxPollutionMe, YyPollutionMe, \n",
    "                                   XxPollutionHi, YyPollutionHi)\n",
    "fig.savefig('plot1.png')\n",
    "fig.clf()"
   ]
  },
  {
   "cell_type": "markdown",
   "id": "30e5ce75",
   "metadata": {},
   "source": [
    "<div class=\"alert alert-success\">\n",
    "<b><u>ClearAllData</u></b><br>\n",
    "Is a function, the function clears all vectors and matrix data.\n",
    "</div>"
   ]
  },
  {
   "cell_type": "code",
   "execution_count": 15,
   "id": "b5d065ae",
   "metadata": {},
   "outputs": [],
   "source": [
    "# Deleting the rover track without pollution Arrays\n",
    "def ClearAllData():\n",
    "    XxPollutionLo.clear()\n",
    "    YyPollutionLo.clear()\n",
    "    XxPollutionMe.clear()\n",
    "    YyPollutionMe.clear()\n",
    "    XxPollutionHi.clear()\n",
    "    YyPollutionHi.clear()\n",
    "    FieldMatrix= None"
   ]
  },
  {
   "cell_type": "code",
   "execution_count": 16,
   "id": "58771ee8",
   "metadata": {},
   "outputs": [
    {
     "name": "stdout",
     "output_type": "stream",
     "text": [
      "\u001b[35mᐅ End \u001b[0m\n"
     ]
    }
   ],
   "source": [
    "ClearAllData()\n",
    "gf.Print_1H('End')"
   ]
  }
 ],
 "metadata": {
  "kernelspec": {
   "display_name": "Python 3",
   "language": "python",
   "name": "python3"
  },
  "language_info": {
   "codemirror_mode": {
    "name": "ipython",
    "version": 3
   },
   "file_extension": ".py",
   "mimetype": "text/x-python",
   "name": "python",
   "nbconvert_exporter": "python",
   "pygments_lexer": "ipython3",
   "version": "3.8.12"
  }
 },
 "nbformat": 4,
 "nbformat_minor": 5
}
